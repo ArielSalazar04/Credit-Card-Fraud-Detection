{
  "cells": [
    {
      "cell_type": "markdown",
      "metadata": {
        "id": "XwXGN4VL1CI5"
      },
      "source": [
        "# Credit Card Fraud Detection\n",
        "Author: Ariel Salazar"
      ]
    },
    {
      "cell_type": "markdown",
      "metadata": {
        "id": "afsdbToB0ZLL"
      },
      "source": [
        "### Abstract\n",
        "\n",
        "Owning a credit card has many benefits, such as eliminating the need to carry cash and building credit to buy assets such as houses and cars. However, since credit cards are closely associated with a cardholder's identity, banks must have an efficient system to work with if cardholders happen to lose their credit cards or have them stolen. This project aims to download a dataset called Credit Card Fraud Detection from Kaggle and create reliable predictive models to detect when transactions are fraudulent. One of the most significant challenges when predicting fraudulent activity is that the event is rare. Hence, it may be challenging to train a model to detect such activity, given a small amount of fraudulent transactions. The approaches involved in this analysis include Logistic Regression with decision threshold tuning, Support Vector Machines, generating synthetic fraudulent transactions, removing outliers to decrease the amount of noise in the data, and much more. "
      ]
    },
    {
      "cell_type": "markdown",
      "metadata": {
        "id": "gPVFizx90ZLL"
      },
      "source": [
        "### Introduction\n",
        "Owning a credit card has many benefits, including eliminating the need to carry cash and building credit as a way of building a reputation for being capable of making payments on assets, such as houses and cars. Since a credit card is closely associated with a cardholder, cases in which cardholders have their credit cards stolen or their credit card information is used to make purchases unauthorized by the cardholder can both lead to complicated situations for banks to resolve. To ensure the safety and trust of the customer, our goal will be to produce a reliable way of detecting fraudulent credit card transactions to resolve the cardholder's problem as efficiently as possible. "
      ]
    },
    {
      "cell_type": "markdown",
      "metadata": {
        "id": "3ukT1J0H0ZLM"
      },
      "source": [
        "### Background\n",
        "While credit card fraud is known to be one of the most common types of identity theft, the proportion of fraudulent transactions to non-fraudulent transactions may not always be balanced. Such a fact will pose a non-trivial question regarding how to create an accurate machine learning model that is capable of detecting fraudulent activity even if there are few observations to learn from in a sample of data. A potential solution to this problem (which does not involve gathering more data) may involve generating enough synthetic fraudulent data to classify transactions more accurately while minimizing the amount of noise generated in the process. \n",
        "\n",
        "The dataset we will use for this experiment is called \"Credit Card Fraud Detection\" and can be accessed by clicking [here](https://www.kaggle.com/datasets/mlg-ulb/creditcardfraud). According to this source [1], the dataset contains transactions made by European cardholders in September 2013 and has been collaboratively collected and analyzed by the ULB Machine Learning Group in the University of Brussels and Worldline. "
      ]
    },
    {
      "cell_type": "markdown",
      "metadata": {
        "id": "p2cOUYlABJc5"
      },
      "source": [
        "### Methods"
      ]
    },
    {
      "cell_type": "markdown",
      "metadata": {
        "id": "mkgujeLYC6Nw"
      },
      "source": [
        "The following is a summary of the methods that are applied in this section:\n",
        "1. Loading the dataset and performing exploratory data analysis.\n",
        "2. Check if the data is linearly separable.\n",
        "3. Preprocess the data by scaling the features between $[0, 1]$.\n",
        "4. Perform feature selection using Lasso Regression to remove any features that are creating noise. \n",
        "5. Creating an initial Logistic Regression model as the starting point of the modeling.\n",
        "6. Balance the data using SMOTE to oversample the minority class (fraud). \n",
        "7. Tune the Logistic Regression decision threshold to maximize the accuracy of the model.\n",
        "8. Create an initial SVM classifier. \n",
        "9. Remove the outliers only from the majority class to remove more noise.\n",
        "10. Recreate the Logistic Regression and SVM models and include the outlier removal. \n",
        "11. Evaluate both models using stratified k-fold cross validation."
      ]
    },
    {
      "cell_type": "markdown",
      "metadata": {
        "id": "iUIr8nHee40e"
      },
      "source": [
        "#### Loading and Viewing the Data\n",
        "We will begin this experiement by loading the data and identifying what kind of features we will be working with. We will also aim to identify any problems that must be considered prior to the modeling phase, such as imbalanced data. "
      ]
    },
    {
      "cell_type": "code",
      "execution_count": null,
      "metadata": {
        "id": "JyD9CmzM0ZLN"
      },
      "outputs": [],
      "source": [
        "# import packages to assist the data analysis\n",
        "import numpy as np\n",
        "import pandas as pd\n",
        "import seaborn as sns\n",
        "import matplotlib.pyplot as plt\n",
        "from sklearn.svm import SVC\n",
        "from sklearn.linear_model import LogisticRegression, Perceptron, Lasso\n",
        "from sklearn.preprocessing import StandardScaler, MinMaxScaler\n",
        "from sklearn.model_selection import train_test_split, GridSearchCV, StratifiedKFold, cross_val_score\n",
        "from sklearn.metrics import plot_confusion_matrix, precision_recall_curve, f1_score, precision_score, recall_score\n",
        "from sklearn.pipeline import Pipeline\n",
        "from imblearn.over_sampling import SMOTE\n",
        "from scipy import stats"
      ]
    },
    {
      "cell_type": "code",
      "execution_count": null,
      "metadata": {
        "colab": {
          "base_uri": "https://localhost:8080/",
          "height": 253
        },
        "id": "oXa97pOE0ZLN",
        "outputId": "fc4efd53-662f-440e-85d3-3a6c00f3140f"
      },
      "outputs": [
        {
          "name": "stdout",
          "output_type": "stream",
          "text": [
            "Drive already mounted at /content/drive; to attempt to forcibly remount, call drive.mount(\"/content/drive\", force_remount=True).\n"
          ]
        },
        {
          "data": {
            "text/html": [
              "\n",
              "  <div id=\"df-3b34e3d1-4de1-48f7-8dbf-9062102fff8b\">\n",
              "    <div class=\"colab-df-container\">\n",
              "      <div>\n",
              "<style scoped>\n",
              "    .dataframe tbody tr th:only-of-type {\n",
              "        vertical-align: middle;\n",
              "    }\n",
              "\n",
              "    .dataframe tbody tr th {\n",
              "        vertical-align: top;\n",
              "    }\n",
              "\n",
              "    .dataframe thead th {\n",
              "        text-align: right;\n",
              "    }\n",
              "</style>\n",
              "<table border=\"1\" class=\"dataframe\">\n",
              "  <thead>\n",
              "    <tr style=\"text-align: right;\">\n",
              "      <th></th>\n",
              "      <th>Time</th>\n",
              "      <th>V1</th>\n",
              "      <th>V2</th>\n",
              "      <th>V3</th>\n",
              "      <th>V4</th>\n",
              "      <th>V5</th>\n",
              "      <th>V6</th>\n",
              "      <th>V7</th>\n",
              "      <th>V8</th>\n",
              "      <th>V9</th>\n",
              "      <th>...</th>\n",
              "      <th>V21</th>\n",
              "      <th>V22</th>\n",
              "      <th>V23</th>\n",
              "      <th>V24</th>\n",
              "      <th>V25</th>\n",
              "      <th>V26</th>\n",
              "      <th>V27</th>\n",
              "      <th>V28</th>\n",
              "      <th>Amount</th>\n",
              "      <th>Class</th>\n",
              "    </tr>\n",
              "  </thead>\n",
              "  <tbody>\n",
              "    <tr>\n",
              "      <th>0</th>\n",
              "      <td>0.0</td>\n",
              "      <td>-1.359807</td>\n",
              "      <td>-0.072781</td>\n",
              "      <td>2.536347</td>\n",
              "      <td>1.378155</td>\n",
              "      <td>-0.338321</td>\n",
              "      <td>0.462388</td>\n",
              "      <td>0.239599</td>\n",
              "      <td>0.098698</td>\n",
              "      <td>0.363787</td>\n",
              "      <td>...</td>\n",
              "      <td>-0.018307</td>\n",
              "      <td>0.277838</td>\n",
              "      <td>-0.110474</td>\n",
              "      <td>0.066928</td>\n",
              "      <td>0.128539</td>\n",
              "      <td>-0.189115</td>\n",
              "      <td>0.133558</td>\n",
              "      <td>-0.021053</td>\n",
              "      <td>149.62</td>\n",
              "      <td>0</td>\n",
              "    </tr>\n",
              "    <tr>\n",
              "      <th>1</th>\n",
              "      <td>0.0</td>\n",
              "      <td>1.191857</td>\n",
              "      <td>0.266151</td>\n",
              "      <td>0.166480</td>\n",
              "      <td>0.448154</td>\n",
              "      <td>0.060018</td>\n",
              "      <td>-0.082361</td>\n",
              "      <td>-0.078803</td>\n",
              "      <td>0.085102</td>\n",
              "      <td>-0.255425</td>\n",
              "      <td>...</td>\n",
              "      <td>-0.225775</td>\n",
              "      <td>-0.638672</td>\n",
              "      <td>0.101288</td>\n",
              "      <td>-0.339846</td>\n",
              "      <td>0.167170</td>\n",
              "      <td>0.125895</td>\n",
              "      <td>-0.008983</td>\n",
              "      <td>0.014724</td>\n",
              "      <td>2.69</td>\n",
              "      <td>0</td>\n",
              "    </tr>\n",
              "    <tr>\n",
              "      <th>2</th>\n",
              "      <td>1.0</td>\n",
              "      <td>-1.358354</td>\n",
              "      <td>-1.340163</td>\n",
              "      <td>1.773209</td>\n",
              "      <td>0.379780</td>\n",
              "      <td>-0.503198</td>\n",
              "      <td>1.800499</td>\n",
              "      <td>0.791461</td>\n",
              "      <td>0.247676</td>\n",
              "      <td>-1.514654</td>\n",
              "      <td>...</td>\n",
              "      <td>0.247998</td>\n",
              "      <td>0.771679</td>\n",
              "      <td>0.909412</td>\n",
              "      <td>-0.689281</td>\n",
              "      <td>-0.327642</td>\n",
              "      <td>-0.139097</td>\n",
              "      <td>-0.055353</td>\n",
              "      <td>-0.059752</td>\n",
              "      <td>378.66</td>\n",
              "      <td>0</td>\n",
              "    </tr>\n",
              "    <tr>\n",
              "      <th>3</th>\n",
              "      <td>1.0</td>\n",
              "      <td>-0.966272</td>\n",
              "      <td>-0.185226</td>\n",
              "      <td>1.792993</td>\n",
              "      <td>-0.863291</td>\n",
              "      <td>-0.010309</td>\n",
              "      <td>1.247203</td>\n",
              "      <td>0.237609</td>\n",
              "      <td>0.377436</td>\n",
              "      <td>-1.387024</td>\n",
              "      <td>...</td>\n",
              "      <td>-0.108300</td>\n",
              "      <td>0.005274</td>\n",
              "      <td>-0.190321</td>\n",
              "      <td>-1.175575</td>\n",
              "      <td>0.647376</td>\n",
              "      <td>-0.221929</td>\n",
              "      <td>0.062723</td>\n",
              "      <td>0.061458</td>\n",
              "      <td>123.50</td>\n",
              "      <td>0</td>\n",
              "    </tr>\n",
              "    <tr>\n",
              "      <th>4</th>\n",
              "      <td>2.0</td>\n",
              "      <td>-1.158233</td>\n",
              "      <td>0.877737</td>\n",
              "      <td>1.548718</td>\n",
              "      <td>0.403034</td>\n",
              "      <td>-0.407193</td>\n",
              "      <td>0.095921</td>\n",
              "      <td>0.592941</td>\n",
              "      <td>-0.270533</td>\n",
              "      <td>0.817739</td>\n",
              "      <td>...</td>\n",
              "      <td>-0.009431</td>\n",
              "      <td>0.798278</td>\n",
              "      <td>-0.137458</td>\n",
              "      <td>0.141267</td>\n",
              "      <td>-0.206010</td>\n",
              "      <td>0.502292</td>\n",
              "      <td>0.219422</td>\n",
              "      <td>0.215153</td>\n",
              "      <td>69.99</td>\n",
              "      <td>0</td>\n",
              "    </tr>\n",
              "  </tbody>\n",
              "</table>\n",
              "<p>5 rows × 31 columns</p>\n",
              "</div>\n",
              "      <button class=\"colab-df-convert\" onclick=\"convertToInteractive('df-3b34e3d1-4de1-48f7-8dbf-9062102fff8b')\"\n",
              "              title=\"Convert this dataframe to an interactive table.\"\n",
              "              style=\"display:none;\">\n",
              "        \n",
              "  <svg xmlns=\"http://www.w3.org/2000/svg\" height=\"24px\"viewBox=\"0 0 24 24\"\n",
              "       width=\"24px\">\n",
              "    <path d=\"M0 0h24v24H0V0z\" fill=\"none\"/>\n",
              "    <path d=\"M18.56 5.44l.94 2.06.94-2.06 2.06-.94-2.06-.94-.94-2.06-.94 2.06-2.06.94zm-11 1L8.5 8.5l.94-2.06 2.06-.94-2.06-.94L8.5 2.5l-.94 2.06-2.06.94zm10 10l.94 2.06.94-2.06 2.06-.94-2.06-.94-.94-2.06-.94 2.06-2.06.94z\"/><path d=\"M17.41 7.96l-1.37-1.37c-.4-.4-.92-.59-1.43-.59-.52 0-1.04.2-1.43.59L10.3 9.45l-7.72 7.72c-.78.78-.78 2.05 0 2.83L4 21.41c.39.39.9.59 1.41.59.51 0 1.02-.2 1.41-.59l7.78-7.78 2.81-2.81c.8-.78.8-2.07 0-2.86zM5.41 20L4 18.59l7.72-7.72 1.47 1.35L5.41 20z\"/>\n",
              "  </svg>\n",
              "      </button>\n",
              "      \n",
              "  <style>\n",
              "    .colab-df-container {\n",
              "      display:flex;\n",
              "      flex-wrap:wrap;\n",
              "      gap: 12px;\n",
              "    }\n",
              "\n",
              "    .colab-df-convert {\n",
              "      background-color: #E8F0FE;\n",
              "      border: none;\n",
              "      border-radius: 50%;\n",
              "      cursor: pointer;\n",
              "      display: none;\n",
              "      fill: #1967D2;\n",
              "      height: 32px;\n",
              "      padding: 0 0 0 0;\n",
              "      width: 32px;\n",
              "    }\n",
              "\n",
              "    .colab-df-convert:hover {\n",
              "      background-color: #E2EBFA;\n",
              "      box-shadow: 0px 1px 2px rgba(60, 64, 67, 0.3), 0px 1px 3px 1px rgba(60, 64, 67, 0.15);\n",
              "      fill: #174EA6;\n",
              "    }\n",
              "\n",
              "    [theme=dark] .colab-df-convert {\n",
              "      background-color: #3B4455;\n",
              "      fill: #D2E3FC;\n",
              "    }\n",
              "\n",
              "    [theme=dark] .colab-df-convert:hover {\n",
              "      background-color: #434B5C;\n",
              "      box-shadow: 0px 1px 3px 1px rgba(0, 0, 0, 0.15);\n",
              "      filter: drop-shadow(0px 1px 2px rgba(0, 0, 0, 0.3));\n",
              "      fill: #FFFFFF;\n",
              "    }\n",
              "  </style>\n",
              "\n",
              "      <script>\n",
              "        const buttonEl =\n",
              "          document.querySelector('#df-3b34e3d1-4de1-48f7-8dbf-9062102fff8b button.colab-df-convert');\n",
              "        buttonEl.style.display =\n",
              "          google.colab.kernel.accessAllowed ? 'block' : 'none';\n",
              "\n",
              "        async function convertToInteractive(key) {\n",
              "          const element = document.querySelector('#df-3b34e3d1-4de1-48f7-8dbf-9062102fff8b');\n",
              "          const dataTable =\n",
              "            await google.colab.kernel.invokeFunction('convertToInteractive',\n",
              "                                                     [key], {});\n",
              "          if (!dataTable) return;\n",
              "\n",
              "          const docLinkHtml = 'Like what you see? Visit the ' +\n",
              "            '<a target=\"_blank\" href=https://colab.research.google.com/notebooks/data_table.ipynb>data table notebook</a>'\n",
              "            + ' to learn more about interactive tables.';\n",
              "          element.innerHTML = '';\n",
              "          dataTable['output_type'] = 'display_data';\n",
              "          await google.colab.output.renderOutput(dataTable, element);\n",
              "          const docLink = document.createElement('div');\n",
              "          docLink.innerHTML = docLinkHtml;\n",
              "          element.appendChild(docLink);\n",
              "        }\n",
              "      </script>\n",
              "    </div>\n",
              "  </div>\n",
              "  "
            ],
            "text/plain": [
              "   Time        V1        V2        V3        V4        V5        V6        V7  \\\n",
              "0   0.0 -1.359807 -0.072781  2.536347  1.378155 -0.338321  0.462388  0.239599   \n",
              "1   0.0  1.191857  0.266151  0.166480  0.448154  0.060018 -0.082361 -0.078803   \n",
              "2   1.0 -1.358354 -1.340163  1.773209  0.379780 -0.503198  1.800499  0.791461   \n",
              "3   1.0 -0.966272 -0.185226  1.792993 -0.863291 -0.010309  1.247203  0.237609   \n",
              "4   2.0 -1.158233  0.877737  1.548718  0.403034 -0.407193  0.095921  0.592941   \n",
              "\n",
              "         V8        V9  ...       V21       V22       V23       V24       V25  \\\n",
              "0  0.098698  0.363787  ... -0.018307  0.277838 -0.110474  0.066928  0.128539   \n",
              "1  0.085102 -0.255425  ... -0.225775 -0.638672  0.101288 -0.339846  0.167170   \n",
              "2  0.247676 -1.514654  ...  0.247998  0.771679  0.909412 -0.689281 -0.327642   \n",
              "3  0.377436 -1.387024  ... -0.108300  0.005274 -0.190321 -1.175575  0.647376   \n",
              "4 -0.270533  0.817739  ... -0.009431  0.798278 -0.137458  0.141267 -0.206010   \n",
              "\n",
              "        V26       V27       V28  Amount  Class  \n",
              "0 -0.189115  0.133558 -0.021053  149.62      0  \n",
              "1  0.125895 -0.008983  0.014724    2.69      0  \n",
              "2 -0.139097 -0.055353 -0.059752  378.66      0  \n",
              "3 -0.221929  0.062723  0.061458  123.50      0  \n",
              "4  0.502292  0.219422  0.215153   69.99      0  \n",
              "\n",
              "[5 rows x 31 columns]"
            ]
          },
          "execution_count": 125,
          "metadata": {},
          "output_type": "execute_result"
        }
      ],
      "source": [
        "# load data for Google Colab\n",
        "from google.colab import drive\n",
        "drive.mount('/content/drive')\n",
        "data = pd.read_csv('/content/drive/My Drive/creditcard.csv')\n",
        "data.head()"
      ]
    },
    {
      "cell_type": "code",
      "execution_count": null,
      "metadata": {
        "id": "IOmEOTUL0ZLO"
      },
      "outputs": [],
      "source": [
        "# load data for local workspace (do NOT run on Google Colab)\n",
        "#data = pd.read_csv(\"creditcard.csv\")\n",
        "#data.head()"
      ]
    },
    {
      "cell_type": "code",
      "execution_count": null,
      "metadata": {
        "colab": {
          "base_uri": "https://localhost:8080/"
        },
        "id": "w4aoxSzz6Rxy",
        "outputId": "41234e0d-d6ae-4287-eeac-64473f51ba38"
      },
      "outputs": [
        {
          "name": "stdout",
          "output_type": "stream",
          "text": [
            "<class 'pandas.core.frame.DataFrame'>\n",
            "RangeIndex: 284806 entries, 0 to 284805\n",
            "Data columns (total 31 columns):\n",
            " #   Column  Non-Null Count   Dtype  \n",
            "---  ------  --------------   -----  \n",
            " 0   Time    284806 non-null  float64\n",
            " 1   V1      284806 non-null  float64\n",
            " 2   V2      284806 non-null  float64\n",
            " 3   V3      284806 non-null  float64\n",
            " 4   V4      284806 non-null  float64\n",
            " 5   V5      284806 non-null  float64\n",
            " 6   V6      284806 non-null  float64\n",
            " 7   V7      284806 non-null  float64\n",
            " 8   V8      284806 non-null  float64\n",
            " 9   V9      284806 non-null  float64\n",
            " 10  V10     284806 non-null  float64\n",
            " 11  V11     284806 non-null  float64\n",
            " 12  V12     284806 non-null  float64\n",
            " 13  V13     284806 non-null  float64\n",
            " 14  V14     284806 non-null  float64\n",
            " 15  V15     284806 non-null  float64\n",
            " 16  V16     284806 non-null  float64\n",
            " 17  V17     284806 non-null  float64\n",
            " 18  V18     284806 non-null  float64\n",
            " 19  V19     284806 non-null  float64\n",
            " 20  V20     284806 non-null  float64\n",
            " 21  V21     284806 non-null  float64\n",
            " 22  V22     284806 non-null  float64\n",
            " 23  V23     284806 non-null  float64\n",
            " 24  V24     284806 non-null  float64\n",
            " 25  V25     284806 non-null  float64\n",
            " 26  V26     284806 non-null  float64\n",
            " 27  V27     284806 non-null  float64\n",
            " 28  V28     284806 non-null  float64\n",
            " 29  Amount  284806 non-null  float64\n",
            " 30  Class   284806 non-null  int64  \n",
            "dtypes: float64(30), int64(1)\n",
            "memory usage: 67.4 MB\n"
          ]
        }
      ],
      "source": [
        "data.info()"
      ]
    },
    {
      "cell_type": "markdown",
      "metadata": {
        "id": "9iI-lnCNzkoW"
      },
      "source": [
        "We can see above that our dataset is comprised of $284,806$ credit card transactions, $30$ features, and $1$ binary target. Below is a description of all the features and target.\n",
        "\n",
        "| Feature | Description |\n",
        "| ----------- | ----------- |\n",
        "| Time | Number of seconds elapsed since the first transaction occured |\n",
        "| V1-V28 | Continuous credit card features |\n",
        "| Amount | Transaction amount |\n",
        "| Class | Fraudulent: 1, Non-fraudulent: 0 |\n",
        "\n",
        "According to the page on Kaggle [1], the features $V1$ to $V28$ are the result of a PCA Dimensionality reduction, which means that this will not be one of our methods. Also, further information about the features is not disclosed due to confidentiality.  \n"
      ]
    },
    {
      "cell_type": "markdown",
      "metadata": {
        "id": "zJ7FyWhtj_qW"
      },
      "source": [
        "Next, we should check how balanced the data is. "
      ]
    },
    {
      "cell_type": "code",
      "execution_count": null,
      "metadata": {
        "colab": {
          "base_uri": "https://localhost:8080/"
        },
        "id": "E-U1FFmA1CJA",
        "outputId": "2a172e95-b16e-4d0e-f828-09f3bbb5feac"
      },
      "outputs": [
        {
          "data": {
            "text/plain": [
              "0    284314\n",
              "1       492\n",
              "Name: Class, dtype: int64"
            ]
          },
          "execution_count": 127,
          "metadata": {},
          "output_type": "execute_result"
        }
      ],
      "source": [
        "# Separate the data into features and target\n",
        "X = data.drop([\"Class\"], axis=1)\n",
        "y = data[\"Class\"]\n",
        "y.value_counts()"
      ]
    },
    {
      "cell_type": "markdown",
      "metadata": {
        "id": "Yt4NmwoG1CJB"
      },
      "source": [
        "We can see above that the data is highly unbalanced with respect to the target values. This is something we will need to consider after our exploratory data analysis. "
      ]
    },
    {
      "cell_type": "markdown",
      "metadata": {
        "id": "7hgT247FirQq"
      },
      "source": [
        "#### Exploratory Data Analysis"
      ]
    },
    {
      "cell_type": "markdown",
      "metadata": {
        "id": "IxYtNERphA6A"
      },
      "source": [
        "##### Boxplots\n",
        "Now we will try to understand the main characteristics of the features and their relationship to the target. We will create boxplots to compare each feature between the two classes to identify any correlations, differences in data between both classes (fraudulent and non-fraudulent), and any additional problems that must be resolved in the preprocessing phase. "
      ]
    },
    {
      "cell_type": "code",
      "execution_count": null,
      "metadata": {
        "colab": {
          "base_uri": "https://localhost:8080/",
          "height": 687
        },
        "id": "rFEBqLv1_6HB",
        "outputId": "25e2159b-a448-4e99-a73a-18eb3453a7d5"
      },
      "outputs": [
        {
          "data": {
            "image/png": "[encoded data removed]",
            "text/plain": [
              "<Figure size 432x288 with 30 Axes>"
            ]
          },
          "metadata": {
            "needs_background": "light"
          },
          "output_type": "display_data"
        }
      ],
      "source": [
        "# boxplots of all features\n",
        "fig, axes = plt.subplots(5, 6)\n",
        "for index, col in enumerate(X):\n",
        "    ax = sns.boxplot(data=data, x=col, y=\"Class\", orient=\"h\", ax=axes[index // 6, index % 6])\n",
        "plt.subplots_adjust(top=3.25, right=4.0)"
      ]
    },
    {
      "cell_type": "markdown",
      "metadata": {
        "id": "RzlU1Hiflzfx"
      },
      "source": [
        "We can see above that there are a few things we need to keep in mind about this dataset. \n",
        "\n",
        "First, there are a TON of outliers for each feature and in both the fraudulent and non-fraudulent classes. In machine learning, outliers are known to mislead the training process by increasing training times and reducing accuracy. Also, we want to create models that make a generalization about the data, so outliers may cause problem when trying to do so. However, while outlier removal sounds like a good idea, we would not like to lose a lot of observations classified as fraudulent because they are scarce. \n",
        "\n",
        "Also, there seems to be overlapping between both classes in all of the features. While it may have been expected already, the dataset we are working with does not seem to be linearly separable. However, it is still a good idea to ensure that that claim is true. We can overfit our data to a Perceptron to measure the data's linear separability. \n",
        "\n",
        "For our next steps in the analysis, we should try a couple of things:\n",
        "1. Plot the same boxplots without the outliers to see a more generalized version of the data. \n",
        "2. Check if the data happens to be linearly separable. "
      ]
    },
    {
      "cell_type": "markdown",
      "metadata": {
        "id": "kzIJEmxbftlS"
      },
      "source": [
        "Let's plot the features again but this time we will omit the outliers. "
      ]
    },
    {
      "cell_type": "code",
      "execution_count": null,
      "metadata": {
        "colab": {
          "base_uri": "https://localhost:8080/",
          "height": 1000
        },
        "id": "7_qiLOMkexNj",
        "outputId": "ab5fba6e-9ad3-4311-b03c-035f5d030bb6"
      },
      "outputs": [
        {
          "data": {
            "image/png": "[encoded data removed]",
            "text/plain": [
              "<Figure size 432x288 with 30 Axes>"
            ]
          },
          "metadata": {
            "needs_background": "light"
          },
          "output_type": "display_data"
        }
      ],
      "source": [
        "# boxplots of all features without outliers\n",
        "fig, axes = plt.subplots(5, 6)\n",
        "for index, col in enumerate(X):\n",
        "    ax = sns.boxplot(data=data, x=col, y=\"Class\", orient=\"h\", ax=axes[index // 6, index % 6], showfliers=False)\n",
        "plt.subplots_adjust(top=4.0, right=4.0)"
      ]
    },
    {
      "cell_type": "markdown",
      "metadata": {
        "id": "bl8dL5MC1Qur"
      },
      "source": [
        "Now the difference of five-number summaries between the fraud and non-fraud data is more clear. While some features like $V25$ and $V26$ have similar stats, features like $V10$, $V12$, and $V14$ have much more difference between the classes. Furthermore, we can see that almost all the medians for the fraud class are zero while several of the non-fraud class medians are non-zero. Both these observations may hint to the possibility of some features being useful for the classification rather than others."
      ]
    },
    {
      "cell_type": "markdown",
      "metadata": {
        "id": "45Ofjr-nhIj1"
      },
      "source": [
        "##### Check Linear Separability"
      ]
    },
    {
      "cell_type": "markdown",
      "metadata": {
        "id": "luqIjav2bWB5"
      },
      "source": [
        "We can create a Perceptron to determine if the data is linearly separable. We can fit the data into the Perceptron and if the accuracy is 1.0 then the data is linearly separable. Otherwise, it is not."
      ]
    },
    {
      "cell_type": "code",
      "execution_count": null,
      "metadata": {
        "colab": {
          "base_uri": "https://localhost:8080/"
        },
        "id": "LVx74vy4_-Rw",
        "outputId": "fc66ce74-774f-4de2-8930-4718f6d12985"
      },
      "outputs": [
        {
          "name": "stdout",
          "output_type": "stream",
          "text": [
            "Mean Accuracy: 0.9982\n"
          ]
        }
      ],
      "source": [
        "# check linear separability using Perceptron algorithm\n",
        "perceptron_model = Perceptron(tol=1e-3, max_iter=7e3)\n",
        "perceptron_model.fit(X, y)\n",
        "print(\"Mean Accuracy: %.4f\" % perceptron_model.score(X, y))"
      ]
    },
    {
      "cell_type": "markdown",
      "metadata": {
        "id": "IFSdg8rLb_Bo"
      },
      "source": [
        "We can confirm that the data is not linearly separable. To obtain better results, we will use non-linear classifiers after we preprocess the data. "
      ]
    },
    {
      "cell_type": "markdown",
      "metadata": {
        "id": "EInuYzNT1CI9"
      },
      "source": [
        "#### Preprocessing"
      ]
    },
    {
      "cell_type": "markdown",
      "metadata": {
        "id": "vvVL8lSXPupb"
      },
      "source": [
        "For the sake of complexity, we will scale all our features using the MinMaxScaler provided by sklearn."
      ]
    },
    {
      "cell_type": "code",
      "execution_count": null,
      "metadata": {
        "colab": {
          "base_uri": "https://localhost:8080/",
          "height": 394
        },
        "id": "xmx2fguoTzdd",
        "outputId": "d78e847a-5291-410e-bef4-062b90900f88"
      },
      "outputs": [
        {
          "data": {
            "text/html": [
              "\n",
              "  <div id=\"df-cdb97bc9-36da-4a7d-828b-3397923e01fd\">\n",
              "    <div class=\"colab-df-container\">\n",
              "      <div>\n",
              "<style scoped>\n",
              "    .dataframe tbody tr th:only-of-type {\n",
              "        vertical-align: middle;\n",
              "    }\n",
              "\n",
              "    .dataframe tbody tr th {\n",
              "        vertical-align: top;\n",
              "    }\n",
              "\n",
              "    .dataframe thead th {\n",
              "        text-align: right;\n",
              "    }\n",
              "</style>\n",
              "<table border=\"1\" class=\"dataframe\">\n",
              "  <thead>\n",
              "    <tr style=\"text-align: right;\">\n",
              "      <th></th>\n",
              "      <th>Time</th>\n",
              "      <th>V1</th>\n",
              "      <th>V2</th>\n",
              "      <th>V3</th>\n",
              "      <th>V4</th>\n",
              "      <th>V5</th>\n",
              "      <th>V6</th>\n",
              "      <th>V7</th>\n",
              "      <th>V8</th>\n",
              "      <th>V9</th>\n",
              "      <th>...</th>\n",
              "      <th>V20</th>\n",
              "      <th>V21</th>\n",
              "      <th>V22</th>\n",
              "      <th>V23</th>\n",
              "      <th>V24</th>\n",
              "      <th>V25</th>\n",
              "      <th>V26</th>\n",
              "      <th>V27</th>\n",
              "      <th>V28</th>\n",
              "      <th>Amount</th>\n",
              "    </tr>\n",
              "  </thead>\n",
              "  <tbody>\n",
              "    <tr>\n",
              "      <th>count</th>\n",
              "      <td>284806.000000</td>\n",
              "      <td>284806.000000</td>\n",
              "      <td>284806.000000</td>\n",
              "      <td>284806.000000</td>\n",
              "      <td>284806.000000</td>\n",
              "      <td>284806.000000</td>\n",
              "      <td>284806.000000</td>\n",
              "      <td>284806.000000</td>\n",
              "      <td>284806.000000</td>\n",
              "      <td>284806.000000</td>\n",
              "      <td>...</td>\n",
              "      <td>284806.000000</td>\n",
              "      <td>284806.000000</td>\n",
              "      <td>284806.000000</td>\n",
              "      <td>284806.000000</td>\n",
              "      <td>284806.000000</td>\n",
              "      <td>284806.000000</td>\n",
              "      <td>284806.000000</td>\n",
              "      <td>284806.000000</td>\n",
              "      <td>284806.000000</td>\n",
              "      <td>284806.000000</td>\n",
              "    </tr>\n",
              "    <tr>\n",
              "      <th>mean</th>\n",
              "      <td>0.548728</td>\n",
              "      <td>0.958294</td>\n",
              "      <td>0.767258</td>\n",
              "      <td>0.837414</td>\n",
              "      <td>0.251930</td>\n",
              "      <td>0.765716</td>\n",
              "      <td>0.263020</td>\n",
              "      <td>0.265355</td>\n",
              "      <td>0.785385</td>\n",
              "      <td>0.462780</td>\n",
              "      <td>...</td>\n",
              "      <td>0.580265</td>\n",
              "      <td>0.561479</td>\n",
              "      <td>0.510031</td>\n",
              "      <td>0.665434</td>\n",
              "      <td>0.382234</td>\n",
              "      <td>0.577907</td>\n",
              "      <td>0.425449</td>\n",
              "      <td>0.416511</td>\n",
              "      <td>0.313124</td>\n",
              "      <td>0.003439</td>\n",
              "    </tr>\n",
              "    <tr>\n",
              "      <th>std</th>\n",
              "      <td>0.274834</td>\n",
              "      <td>0.033276</td>\n",
              "      <td>0.017424</td>\n",
              "      <td>0.026275</td>\n",
              "      <td>0.062764</td>\n",
              "      <td>0.009292</td>\n",
              "      <td>0.013395</td>\n",
              "      <td>0.007537</td>\n",
              "      <td>0.012812</td>\n",
              "      <td>0.037846</td>\n",
              "      <td>...</td>\n",
              "      <td>0.008208</td>\n",
              "      <td>0.011841</td>\n",
              "      <td>0.033854</td>\n",
              "      <td>0.009274</td>\n",
              "      <td>0.081611</td>\n",
              "      <td>0.029261</td>\n",
              "      <td>0.078771</td>\n",
              "      <td>0.007450</td>\n",
              "      <td>0.006698</td>\n",
              "      <td>0.009736</td>\n",
              "    </tr>\n",
              "    <tr>\n",
              "      <th>min</th>\n",
              "      <td>0.000000</td>\n",
              "      <td>0.000000</td>\n",
              "      <td>0.000000</td>\n",
              "      <td>0.000000</td>\n",
              "      <td>0.000000</td>\n",
              "      <td>0.000000</td>\n",
              "      <td>0.000000</td>\n",
              "      <td>0.000000</td>\n",
              "      <td>0.000000</td>\n",
              "      <td>0.000000</td>\n",
              "      <td>...</td>\n",
              "      <td>0.000000</td>\n",
              "      <td>0.000000</td>\n",
              "      <td>0.000000</td>\n",
              "      <td>0.000000</td>\n",
              "      <td>0.000000</td>\n",
              "      <td>0.000000</td>\n",
              "      <td>0.000000</td>\n",
              "      <td>0.000000</td>\n",
              "      <td>0.000000</td>\n",
              "      <td>0.000000</td>\n",
              "    </tr>\n",
              "    <tr>\n",
              "      <th>25%</th>\n",
              "      <td>0.313686</td>\n",
              "      <td>0.942658</td>\n",
              "      <td>0.760943</td>\n",
              "      <td>0.821985</td>\n",
              "      <td>0.214311</td>\n",
              "      <td>0.761060</td>\n",
              "      <td>0.255295</td>\n",
              "      <td>0.261980</td>\n",
              "      <td>0.783148</td>\n",
              "      <td>0.440626</td>\n",
              "      <td>...</td>\n",
              "      <td>0.578011</td>\n",
              "      <td>0.557798</td>\n",
              "      <td>0.484730</td>\n",
              "      <td>0.663030</td>\n",
              "      <td>0.334453</td>\n",
              "      <td>0.560105</td>\n",
              "      <td>0.372037</td>\n",
              "      <td>0.415203</td>\n",
              "      <td>0.312049</td>\n",
              "      <td>0.000218</td>\n",
              "    </tr>\n",
              "    <tr>\n",
              "      <th>50%</th>\n",
              "      <td>0.490147</td>\n",
              "      <td>0.958601</td>\n",
              "      <td>0.767949</td>\n",
              "      <td>0.840530</td>\n",
              "      <td>0.251051</td>\n",
              "      <td>0.765351</td>\n",
              "      <td>0.260263</td>\n",
              "      <td>0.265600</td>\n",
              "      <td>0.785625</td>\n",
              "      <td>0.461008</td>\n",
              "      <td>...</td>\n",
              "      <td>0.579600</td>\n",
              "      <td>0.561005</td>\n",
              "      <td>0.510347</td>\n",
              "      <td>0.665267</td>\n",
              "      <td>0.387756</td>\n",
              "      <td>0.578838</td>\n",
              "      <td>0.416932</td>\n",
              "      <td>0.416536</td>\n",
              "      <td>0.313352</td>\n",
              "      <td>0.000856</td>\n",
              "    </tr>\n",
              "    <tr>\n",
              "      <th>75%</th>\n",
              "      <td>0.806306</td>\n",
              "      <td>0.980645</td>\n",
              "      <td>0.775739</td>\n",
              "      <td>0.855214</td>\n",
              "      <td>0.284882</td>\n",
              "      <td>0.769836</td>\n",
              "      <td>0.267027</td>\n",
              "      <td>0.268831</td>\n",
              "      <td>0.788897</td>\n",
              "      <td>0.483350</td>\n",
              "      <td>...</td>\n",
              "      <td>0.581682</td>\n",
              "      <td>0.564484</td>\n",
              "      <td>0.534688</td>\n",
              "      <td>0.667626</td>\n",
              "      <td>0.441460</td>\n",
              "      <td>0.597593</td>\n",
              "      <td>0.464808</td>\n",
              "      <td>0.418191</td>\n",
              "      <td>0.314712</td>\n",
              "      <td>0.003003</td>\n",
              "    </tr>\n",
              "    <tr>\n",
              "      <th>max</th>\n",
              "      <td>1.000000</td>\n",
              "      <td>1.000000</td>\n",
              "      <td>1.000000</td>\n",
              "      <td>1.000000</td>\n",
              "      <td>1.000000</td>\n",
              "      <td>1.000000</td>\n",
              "      <td>1.000000</td>\n",
              "      <td>1.000000</td>\n",
              "      <td>1.000000</td>\n",
              "      <td>1.000000</td>\n",
              "      <td>...</td>\n",
              "      <td>1.000000</td>\n",
              "      <td>1.000000</td>\n",
              "      <td>1.000000</td>\n",
              "      <td>1.000000</td>\n",
              "      <td>1.000000</td>\n",
              "      <td>1.000000</td>\n",
              "      <td>1.000000</td>\n",
              "      <td>1.000000</td>\n",
              "      <td>1.000000</td>\n",
              "      <td>1.000000</td>\n",
              "    </tr>\n",
              "  </tbody>\n",
              "</table>\n",
              "<p>8 rows × 30 columns</p>\n",
              "</div>\n",
              "      <button class=\"colab-df-convert\" onclick=\"convertToInteractive('df-cdb97bc9-36da-4a7d-828b-3397923e01fd')\"\n",
              "              title=\"Convert this dataframe to an interactive table.\"\n",
              "              style=\"display:none;\">\n",
              "        \n",
              "  <svg xmlns=\"http://www.w3.org/2000/svg\" height=\"24px\"viewBox=\"0 0 24 24\"\n",
              "       width=\"24px\">\n",
              "    <path d=\"M0 0h24v24H0V0z\" fill=\"none\"/>\n",
              "    <path d=\"M18.56 5.44l.94 2.06.94-2.06 2.06-.94-2.06-.94-.94-2.06-.94 2.06-2.06.94zm-11 1L8.5 8.5l.94-2.06 2.06-.94-2.06-.94L8.5 2.5l-.94 2.06-2.06.94zm10 10l.94 2.06.94-2.06 2.06-.94-2.06-.94-.94-2.06-.94 2.06-2.06.94z\"/><path d=\"M17.41 7.96l-1.37-1.37c-.4-.4-.92-.59-1.43-.59-.52 0-1.04.2-1.43.59L10.3 9.45l-7.72 7.72c-.78.78-.78 2.05 0 2.83L4 21.41c.39.39.9.59 1.41.59.51 0 1.02-.2 1.41-.59l7.78-7.78 2.81-2.81c.8-.78.8-2.07 0-2.86zM5.41 20L4 18.59l7.72-7.72 1.47 1.35L5.41 20z\"/>\n",
              "  </svg>\n",
              "      </button>\n",
              "      \n",
              "  <style>\n",
              "    .colab-df-container {\n",
              "      display:flex;\n",
              "      flex-wrap:wrap;\n",
              "      gap: 12px;\n",
              "    }\n",
              "\n",
              "    .colab-df-convert {\n",
              "      background-color: #E8F0FE;\n",
              "      border: none;\n",
              "      border-radius: 50%;\n",
              "      cursor: pointer;\n",
              "      display: none;\n",
              "      fill: #1967D2;\n",
              "      height: 32px;\n",
              "      padding: 0 0 0 0;\n",
              "      width: 32px;\n",
              "    }\n",
              "\n",
              "    .colab-df-convert:hover {\n",
              "      background-color: #E2EBFA;\n",
              "      box-shadow: 0px 1px 2px rgba(60, 64, 67, 0.3), 0px 1px 3px 1px rgba(60, 64, 67, 0.15);\n",
              "      fill: #174EA6;\n",
              "    }\n",
              "\n",
              "    [theme=dark] .colab-df-convert {\n",
              "      background-color: #3B4455;\n",
              "      fill: #D2E3FC;\n",
              "    }\n",
              "\n",
              "    [theme=dark] .colab-df-convert:hover {\n",
              "      background-color: #434B5C;\n",
              "      box-shadow: 0px 1px 3px 1px rgba(0, 0, 0, 0.15);\n",
              "      filter: drop-shadow(0px 1px 2px rgba(0, 0, 0, 0.3));\n",
              "      fill: #FFFFFF;\n",
              "    }\n",
              "  </style>\n",
              "\n",
              "      <script>\n",
              "        const buttonEl =\n",
              "          document.querySelector('#df-cdb97bc9-36da-4a7d-828b-3397923e01fd button.colab-df-convert');\n",
              "        buttonEl.style.display =\n",
              "          google.colab.kernel.accessAllowed ? 'block' : 'none';\n",
              "\n",
              "        async function convertToInteractive(key) {\n",
              "          const element = document.querySelector('#df-cdb97bc9-36da-4a7d-828b-3397923e01fd');\n",
              "          const dataTable =\n",
              "            await google.colab.kernel.invokeFunction('convertToInteractive',\n",
              "                                                     [key], {});\n",
              "          if (!dataTable) return;\n",
              "\n",
              "          const docLinkHtml = 'Like what you see? Visit the ' +\n",
              "            '<a target=\"_blank\" href=https://colab.research.google.com/notebooks/data_table.ipynb>data table notebook</a>'\n",
              "            + ' to learn more about interactive tables.';\n",
              "          element.innerHTML = '';\n",
              "          dataTable['output_type'] = 'display_data';\n",
              "          await google.colab.output.renderOutput(dataTable, element);\n",
              "          const docLink = document.createElement('div');\n",
              "          docLink.innerHTML = docLinkHtml;\n",
              "          element.appendChild(docLink);\n",
              "        }\n",
              "      </script>\n",
              "    </div>\n",
              "  </div>\n",
              "  "
            ],
            "text/plain": [
              "                Time             V1             V2             V3  \\\n",
              "count  284806.000000  284806.000000  284806.000000  284806.000000   \n",
              "mean        0.548728       0.958294       0.767258       0.837414   \n",
              "std         0.274834       0.033276       0.017424       0.026275   \n",
              "min         0.000000       0.000000       0.000000       0.000000   \n",
              "25%         0.313686       0.942658       0.760943       0.821985   \n",
              "50%         0.490147       0.958601       0.767949       0.840530   \n",
              "75%         0.806306       0.980645       0.775739       0.855214   \n",
              "max         1.000000       1.000000       1.000000       1.000000   \n",
              "\n",
              "                  V4             V5             V6             V7  \\\n",
              "count  284806.000000  284806.000000  284806.000000  284806.000000   \n",
              "mean        0.251930       0.765716       0.263020       0.265355   \n",
              "std         0.062764       0.009292       0.013395       0.007537   \n",
              "min         0.000000       0.000000       0.000000       0.000000   \n",
              "25%         0.214311       0.761060       0.255295       0.261980   \n",
              "50%         0.251051       0.765351       0.260263       0.265600   \n",
              "75%         0.284882       0.769836       0.267027       0.268831   \n",
              "max         1.000000       1.000000       1.000000       1.000000   \n",
              "\n",
              "                  V8             V9  ...            V20            V21  \\\n",
              "count  284806.000000  284806.000000  ...  284806.000000  284806.000000   \n",
              "mean        0.785385       0.462780  ...       0.580265       0.561479   \n",
              "std         0.012812       0.037846  ...       0.008208       0.011841   \n",
              "min         0.000000       0.000000  ...       0.000000       0.000000   \n",
              "25%         0.783148       0.440626  ...       0.578011       0.557798   \n",
              "50%         0.785625       0.461008  ...       0.579600       0.561005   \n",
              "75%         0.788897       0.483350  ...       0.581682       0.564484   \n",
              "max         1.000000       1.000000  ...       1.000000       1.000000   \n",
              "\n",
              "                 V22            V23            V24            V25  \\\n",
              "count  284806.000000  284806.000000  284806.000000  284806.000000   \n",
              "mean        0.510031       0.665434       0.382234       0.577907   \n",
              "std         0.033854       0.009274       0.081611       0.029261   \n",
              "min         0.000000       0.000000       0.000000       0.000000   \n",
              "25%         0.484730       0.663030       0.334453       0.560105   \n",
              "50%         0.510347       0.665267       0.387756       0.578838   \n",
              "75%         0.534688       0.667626       0.441460       0.597593   \n",
              "max         1.000000       1.000000       1.000000       1.000000   \n",
              "\n",
              "                 V26            V27            V28         Amount  \n",
              "count  284806.000000  284806.000000  284806.000000  284806.000000  \n",
              "mean        0.425449       0.416511       0.313124       0.003439  \n",
              "std         0.078771       0.007450       0.006698       0.009736  \n",
              "min         0.000000       0.000000       0.000000       0.000000  \n",
              "25%         0.372037       0.415203       0.312049       0.000218  \n",
              "50%         0.416932       0.416536       0.313352       0.000856  \n",
              "75%         0.464808       0.418191       0.314712       0.003003  \n",
              "max         1.000000       1.000000       1.000000       1.000000  \n",
              "\n",
              "[8 rows x 30 columns]"
            ]
          },
          "execution_count": 134,
          "metadata": {},
          "output_type": "execute_result"
        }
      ],
      "source": [
        "# scale all features between 0 and 1\n",
        "min_max_scaler = MinMaxScaler()\n",
        "X_minmaxscaled = pd.DataFrame(min_max_scaler.fit_transform(X), columns=X.columns)\n",
        "X_minmaxscaled.describe()"
      ]
    },
    {
      "cell_type": "markdown",
      "metadata": {
        "id": "Z5UAFAT7eeLe"
      },
      "source": [
        "#### Feature Selection"
      ]
    },
    {
      "cell_type": "markdown",
      "metadata": {
        "id": "lx2QetLFGBDP"
      },
      "source": [
        "Before doing any modeling, we can use Lasso Regression to determine which features (if any) are unimportant to the prediction of fraudulent and non-fraudulent transactions. Such features serve as noise and should be removed to prevent creating models that underperform. \n",
        "\n",
        "Before tuning the $\\alpha$ hyperparameter in the Lasso class, we need to standardized the data to reduce the computational complexity of this procedure while preserving the magnitude of each feature.  "
      ]
    },
    {
      "cell_type": "code",
      "execution_count": null,
      "metadata": {
        "colab": {
          "base_uri": "https://localhost:8080/"
        },
        "id": "g1Ie7JKqaSa6",
        "outputId": "295ea774-9d01-4ce3-f476-8438b9ca3ede"
      },
      "outputs": [
        {
          "name": "stdout",
          "output_type": "stream",
          "text": [
            "Fitting 5 folds for each of 13 candidates, totalling 65 fits\n",
            "[CV 1/5] END ...............model__alpha=1e-06;, score=-0.002 total time=   1.7s\n",
            "[CV 2/5] END ...............model__alpha=1e-06;, score=-0.001 total time=   1.9s\n",
            "[CV 3/5] END ...............model__alpha=1e-06;, score=-0.001 total time=   1.8s\n",
            "[CV 4/5] END ...............model__alpha=1e-06;, score=-0.001 total time=   2.2s\n",
            "[CV 5/5] END ...............model__alpha=1e-06;, score=-0.001 total time=   1.9s\n",
            "[CV 1/5] END ...............model__alpha=1e-05;, score=-0.002 total time=   1.2s\n",
            "[CV 2/5] END ...............model__alpha=1e-05;, score=-0.001 total time=   1.4s\n",
            "[CV 3/5] END ...............model__alpha=1e-05;, score=-0.001 total time=   1.3s\n",
            "[CV 4/5] END ...............model__alpha=1e-05;, score=-0.001 total time=   1.2s\n",
            "[CV 5/5] END ...............model__alpha=1e-05;, score=-0.001 total time=   1.2s\n",
            "[CV 1/5] END ..............model__alpha=0.0001;, score=-0.002 total time=   0.7s\n",
            "[CV 2/5] END ..............model__alpha=0.0001;, score=-0.001 total time=   0.9s\n",
            "[CV 3/5] END ..............model__alpha=0.0001;, score=-0.001 total time=   0.7s\n",
            "[CV 4/5] END ..............model__alpha=0.0001;, score=-0.001 total time=   0.9s\n",
            "[CV 5/5] END ..............model__alpha=0.0001;, score=-0.001 total time=   0.9s\n",
            "[CV 1/5] END ...............model__alpha=0.001;, score=-0.001 total time=   0.3s\n",
            "[CV 2/5] END ...............model__alpha=0.001;, score=-0.001 total time=   0.3s\n",
            "[CV 3/5] END ...............model__alpha=0.001;, score=-0.001 total time=   0.3s\n",
            "[CV 4/5] END ...............model__alpha=0.001;, score=-0.001 total time=   0.2s\n",
            "[CV 5/5] END ...............model__alpha=0.001;, score=-0.001 total time=   0.3s\n",
            "[CV 1/5] END ................model__alpha=0.01;, score=-0.003 total time=   0.2s\n",
            "[CV 2/5] END ................model__alpha=0.01;, score=-0.001 total time=   0.2s\n",
            "[CV 3/5] END ................model__alpha=0.01;, score=-0.002 total time=   0.2s\n",
            "[CV 4/5] END ................model__alpha=0.01;, score=-0.001 total time=   0.2s\n",
            "[CV 5/5] END ................model__alpha=0.01;, score=-0.001 total time=   0.2s\n",
            "[CV 1/5] END .................model__alpha=0.1;, score=-0.003 total time=   0.2s\n",
            "[CV 2/5] END .................model__alpha=0.1;, score=-0.001 total time=   0.2s\n",
            "[CV 3/5] END .................model__alpha=0.1;, score=-0.002 total time=   0.2s\n",
            "[CV 4/5] END .................model__alpha=0.1;, score=-0.001 total time=   0.2s\n",
            "[CV 5/5] END .................model__alpha=0.1;, score=-0.001 total time=   0.2s\n",
            "[CV 1/5] END .................model__alpha=1.0;, score=-0.003 total time=   0.2s\n",
            "[CV 2/5] END .................model__alpha=1.0;, score=-0.001 total time=   0.2s\n",
            "[CV 3/5] END .................model__alpha=1.0;, score=-0.002 total time=   0.2s\n",
            "[CV 4/5] END .................model__alpha=1.0;, score=-0.001 total time=   0.2s\n",
            "[CV 5/5] END .................model__alpha=1.0;, score=-0.001 total time=   0.2s\n",
            "[CV 1/5] END ................model__alpha=10.0;, score=-0.003 total time=   0.2s\n",
            "[CV 2/5] END ................model__alpha=10.0;, score=-0.001 total time=   0.2s\n",
            "[CV 3/5] END ................model__alpha=10.0;, score=-0.002 total time=   0.2s\n",
            "[CV 4/5] END ................model__alpha=10.0;, score=-0.001 total time=   0.2s\n",
            "[CV 5/5] END ................model__alpha=10.0;, score=-0.001 total time=   0.2s\n",
            "[CV 1/5] END ...............model__alpha=100.0;, score=-0.003 total time=   0.2s\n",
            "[CV 2/5] END ...............model__alpha=100.0;, score=-0.001 total time=   0.2s\n",
            "[CV 3/5] END ...............model__alpha=100.0;, score=-0.002 total time=   0.2s\n",
            "[CV 4/5] END ...............model__alpha=100.0;, score=-0.001 total time=   0.2s\n",
            "[CV 5/5] END ...............model__alpha=100.0;, score=-0.001 total time=   0.2s\n",
            "[CV 1/5] END ..............model__alpha=1000.0;, score=-0.003 total time=   0.2s\n",
            "[CV 2/5] END ..............model__alpha=1000.0;, score=-0.001 total time=   0.3s\n",
            "[CV 3/5] END ..............model__alpha=1000.0;, score=-0.002 total time=   0.2s\n",
            "[CV 4/5] END ..............model__alpha=1000.0;, score=-0.001 total time=   0.2s\n",
            "[CV 5/5] END ..............model__alpha=1000.0;, score=-0.001 total time=   0.2s\n",
            "[CV 1/5] END .............model__alpha=10000.0;, score=-0.003 total time=   0.2s\n",
            "[CV 2/5] END .............model__alpha=10000.0;, score=-0.001 total time=   0.2s\n",
            "[CV 3/5] END .............model__alpha=10000.0;, score=-0.002 total time=   0.2s\n",
            "[CV 4/5] END .............model__alpha=10000.0;, score=-0.001 total time=   0.2s\n",
            "[CV 5/5] END .............model__alpha=10000.0;, score=-0.001 total time=   0.2s\n",
            "[CV 1/5] END ............model__alpha=100000.0;, score=-0.003 total time=   0.2s\n",
            "[CV 2/5] END ............model__alpha=100000.0;, score=-0.001 total time=   0.2s\n",
            "[CV 3/5] END ............model__alpha=100000.0;, score=-0.002 total time=   0.2s\n",
            "[CV 4/5] END ............model__alpha=100000.0;, score=-0.001 total time=   0.2s\n",
            "[CV 5/5] END ............model__alpha=100000.0;, score=-0.001 total time=   0.2s\n",
            "[CV 1/5] END ...........model__alpha=1000000.0;, score=-0.003 total time=   0.2s\n",
            "[CV 2/5] END ...........model__alpha=1000000.0;, score=-0.001 total time=   0.2s\n",
            "[CV 3/5] END ...........model__alpha=1000000.0;, score=-0.002 total time=   0.2s\n",
            "[CV 4/5] END ...........model__alpha=1000000.0;, score=-0.001 total time=   0.2s\n",
            "[CV 5/5] END ...........model__alpha=1000000.0;, score=-0.001 total time=   0.2s\n"
          ]
        },
        {
          "data": {
            "text/plain": [
              "{'model__alpha': 0.001}"
            ]
          },
          "execution_count": 135,
          "metadata": {},
          "output_type": "execute_result"
        }
      ],
      "source": [
        "# tune the alpha hyperparameter of Lasso Regression\n",
        "pipeline = Pipeline([ (\"scaler\",StandardScaler()), (\"model\",Lasso()) ])\n",
        "search = GridSearchCV(pipeline, {\"model__alpha\": 10 ** np.linspace(-6,6,13)}, scoring=\"neg_mean_squared_error\", verbose=4)\n",
        "search.fit(X, y)\n",
        "search.best_params_"
      ]
    },
    {
      "cell_type": "code",
      "execution_count": null,
      "metadata": {
        "colab": {
          "base_uri": "https://localhost:8080/",
          "height": 990
        },
        "id": "o-ReWk6cbJdA",
        "outputId": "f6a66d3e-b2ea-401f-aa9a-b89efb8a2d79"
      },
      "outputs": [
        {
          "data": {
            "text/html": [
              "\n",
              "  <div id=\"df-3dcb2bd2-7a7c-47e4-a7c5-d83ab5def516\">\n",
              "    <div class=\"colab-df-container\">\n",
              "      <div>\n",
              "<style scoped>\n",
              "    .dataframe tbody tr th:only-of-type {\n",
              "        vertical-align: middle;\n",
              "    }\n",
              "\n",
              "    .dataframe tbody tr th {\n",
              "        vertical-align: top;\n",
              "    }\n",
              "\n",
              "    .dataframe thead th {\n",
              "        text-align: right;\n",
              "    }\n",
              "</style>\n",
              "<table border=\"1\" class=\"dataframe\">\n",
              "  <thead>\n",
              "    <tr style=\"text-align: right;\">\n",
              "      <th></th>\n",
              "      <th>features</th>\n",
              "      <th>coefs</th>\n",
              "    </tr>\n",
              "  </thead>\n",
              "  <tbody>\n",
              "    <tr>\n",
              "      <th>17</th>\n",
              "      <td>V17</td>\n",
              "      <td>0.012558</td>\n",
              "    </tr>\n",
              "    <tr>\n",
              "      <th>14</th>\n",
              "      <td>V14</td>\n",
              "      <td>0.011564</td>\n",
              "    </tr>\n",
              "    <tr>\n",
              "      <th>12</th>\n",
              "      <td>V12</td>\n",
              "      <td>0.009822</td>\n",
              "    </tr>\n",
              "    <tr>\n",
              "      <th>10</th>\n",
              "      <td>V10</td>\n",
              "      <td>0.008007</td>\n",
              "    </tr>\n",
              "    <tr>\n",
              "      <th>16</th>\n",
              "      <td>V16</td>\n",
              "      <td>0.007162</td>\n",
              "    </tr>\n",
              "    <tr>\n",
              "      <th>3</th>\n",
              "      <td>V3</td>\n",
              "      <td>0.007013</td>\n",
              "    </tr>\n",
              "    <tr>\n",
              "      <th>7</th>\n",
              "      <td>V7</td>\n",
              "      <td>0.006776</td>\n",
              "    </tr>\n",
              "    <tr>\n",
              "      <th>11</th>\n",
              "      <td>V11</td>\n",
              "      <td>0.005432</td>\n",
              "    </tr>\n",
              "    <tr>\n",
              "      <th>4</th>\n",
              "      <td>V4</td>\n",
              "      <td>0.004542</td>\n",
              "    </tr>\n",
              "    <tr>\n",
              "      <th>18</th>\n",
              "      <td>V18</td>\n",
              "      <td>0.003630</td>\n",
              "    </tr>\n",
              "    <tr>\n",
              "      <th>1</th>\n",
              "      <td>V1</td>\n",
              "      <td>0.003209</td>\n",
              "    </tr>\n",
              "    <tr>\n",
              "      <th>9</th>\n",
              "      <td>V9</td>\n",
              "      <td>0.003059</td>\n",
              "    </tr>\n",
              "    <tr>\n",
              "      <th>5</th>\n",
              "      <td>V5</td>\n",
              "      <td>0.002944</td>\n",
              "    </tr>\n",
              "    <tr>\n",
              "      <th>2</th>\n",
              "      <td>V2</td>\n",
              "      <td>0.002791</td>\n",
              "    </tr>\n",
              "    <tr>\n",
              "      <th>6</th>\n",
              "      <td>V6</td>\n",
              "      <td>0.000812</td>\n",
              "    </tr>\n",
              "    <tr>\n",
              "      <th>21</th>\n",
              "      <td>V21</td>\n",
              "      <td>0.000678</td>\n",
              "    </tr>\n",
              "    <tr>\n",
              "      <th>19</th>\n",
              "      <td>V19</td>\n",
              "      <td>0.000444</td>\n",
              "    </tr>\n",
              "    <tr>\n",
              "      <th>26</th>\n",
              "      <td>V26</td>\n",
              "      <td>0.000000</td>\n",
              "    </tr>\n",
              "    <tr>\n",
              "      <th>0</th>\n",
              "      <td>Time</td>\n",
              "      <td>0.000000</td>\n",
              "    </tr>\n",
              "    <tr>\n",
              "      <th>27</th>\n",
              "      <td>V27</td>\n",
              "      <td>0.000000</td>\n",
              "    </tr>\n",
              "    <tr>\n",
              "      <th>24</th>\n",
              "      <td>V24</td>\n",
              "      <td>0.000000</td>\n",
              "    </tr>\n",
              "    <tr>\n",
              "      <th>28</th>\n",
              "      <td>V28</td>\n",
              "      <td>0.000000</td>\n",
              "    </tr>\n",
              "    <tr>\n",
              "      <th>25</th>\n",
              "      <td>V25</td>\n",
              "      <td>0.000000</td>\n",
              "    </tr>\n",
              "    <tr>\n",
              "      <th>15</th>\n",
              "      <td>V15</td>\n",
              "      <td>0.000000</td>\n",
              "    </tr>\n",
              "    <tr>\n",
              "      <th>23</th>\n",
              "      <td>V23</td>\n",
              "      <td>0.000000</td>\n",
              "    </tr>\n",
              "    <tr>\n",
              "      <th>22</th>\n",
              "      <td>V22</td>\n",
              "      <td>0.000000</td>\n",
              "    </tr>\n",
              "    <tr>\n",
              "      <th>20</th>\n",
              "      <td>V20</td>\n",
              "      <td>0.000000</td>\n",
              "    </tr>\n",
              "    <tr>\n",
              "      <th>13</th>\n",
              "      <td>V13</td>\n",
              "      <td>0.000000</td>\n",
              "    </tr>\n",
              "    <tr>\n",
              "      <th>8</th>\n",
              "      <td>V8</td>\n",
              "      <td>0.000000</td>\n",
              "    </tr>\n",
              "    <tr>\n",
              "      <th>29</th>\n",
              "      <td>Amount</td>\n",
              "      <td>0.000000</td>\n",
              "    </tr>\n",
              "  </tbody>\n",
              "</table>\n",
              "</div>\n",
              "      <button class=\"colab-df-convert\" onclick=\"convertToInteractive('df-3dcb2bd2-7a7c-47e4-a7c5-d83ab5def516')\"\n",
              "              title=\"Convert this dataframe to an interactive table.\"\n",
              "              style=\"display:none;\">\n",
              "        \n",
              "  <svg xmlns=\"http://www.w3.org/2000/svg\" height=\"24px\"viewBox=\"0 0 24 24\"\n",
              "       width=\"24px\">\n",
              "    <path d=\"M0 0h24v24H0V0z\" fill=\"none\"/>\n",
              "    <path d=\"M18.56 5.44l.94 2.06.94-2.06 2.06-.94-2.06-.94-.94-2.06-.94 2.06-2.06.94zm-11 1L8.5 8.5l.94-2.06 2.06-.94-2.06-.94L8.5 2.5l-.94 2.06-2.06.94zm10 10l.94 2.06.94-2.06 2.06-.94-2.06-.94-.94-2.06-.94 2.06-2.06.94z\"/><path d=\"M17.41 7.96l-1.37-1.37c-.4-.4-.92-.59-1.43-.59-.52 0-1.04.2-1.43.59L10.3 9.45l-7.72 7.72c-.78.78-.78 2.05 0 2.83L4 21.41c.39.39.9.59 1.41.59.51 0 1.02-.2 1.41-.59l7.78-7.78 2.81-2.81c.8-.78.8-2.07 0-2.86zM5.41 20L4 18.59l7.72-7.72 1.47 1.35L5.41 20z\"/>\n",
              "  </svg>\n",
              "      </button>\n",
              "      \n",
              "  <style>\n",
              "    .colab-df-container {\n",
              "      display:flex;\n",
              "      flex-wrap:wrap;\n",
              "      gap: 12px;\n",
              "    }\n",
              "\n",
              "    .colab-df-convert {\n",
              "      background-color: #E8F0FE;\n",
              "      border: none;\n",
              "      border-radius: 50%;\n",
              "      cursor: pointer;\n",
              "      display: none;\n",
              "      fill: #1967D2;\n",
              "      height: 32px;\n",
              "      padding: 0 0 0 0;\n",
              "      width: 32px;\n",
              "    }\n",
              "\n",
              "    .colab-df-convert:hover {\n",
              "      background-color: #E2EBFA;\n",
              "      box-shadow: 0px 1px 2px rgba(60, 64, 67, 0.3), 0px 1px 3px 1px rgba(60, 64, 67, 0.15);\n",
              "      fill: #174EA6;\n",
              "    }\n",
              "\n",
              "    [theme=dark] .colab-df-convert {\n",
              "      background-color: #3B4455;\n",
              "      fill: #D2E3FC;\n",
              "    }\n",
              "\n",
              "    [theme=dark] .colab-df-convert:hover {\n",
              "      background-color: #434B5C;\n",
              "      box-shadow: 0px 1px 3px 1px rgba(0, 0, 0, 0.15);\n",
              "      filter: drop-shadow(0px 1px 2px rgba(0, 0, 0, 0.3));\n",
              "      fill: #FFFFFF;\n",
              "    }\n",
              "  </style>\n",
              "\n",
              "      <script>\n",
              "        const buttonEl =\n",
              "          document.querySelector('#df-3dcb2bd2-7a7c-47e4-a7c5-d83ab5def516 button.colab-df-convert');\n",
              "        buttonEl.style.display =\n",
              "          google.colab.kernel.accessAllowed ? 'block' : 'none';\n",
              "\n",
              "        async function convertToInteractive(key) {\n",
              "          const element = document.querySelector('#df-3dcb2bd2-7a7c-47e4-a7c5-d83ab5def516');\n",
              "          const dataTable =\n",
              "            await google.colab.kernel.invokeFunction('convertToInteractive',\n",
              "                                                     [key], {});\n",
              "          if (!dataTable) return;\n",
              "\n",
              "          const docLinkHtml = 'Like what you see? Visit the ' +\n",
              "            '<a target=\"_blank\" href=https://colab.research.google.com/notebooks/data_table.ipynb>data table notebook</a>'\n",
              "            + ' to learn more about interactive tables.';\n",
              "          element.innerHTML = '';\n",
              "          dataTable['output_type'] = 'display_data';\n",
              "          await google.colab.output.renderOutput(dataTable, element);\n",
              "          const docLink = document.createElement('div');\n",
              "          docLink.innerHTML = docLinkHtml;\n",
              "          element.appendChild(docLink);\n",
              "        }\n",
              "      </script>\n",
              "    </div>\n",
              "  </div>\n",
              "  "
            ],
            "text/plain": [
              "   features     coefs\n",
              "17      V17  0.012558\n",
              "14      V14  0.011564\n",
              "12      V12  0.009822\n",
              "10      V10  0.008007\n",
              "16      V16  0.007162\n",
              "3        V3  0.007013\n",
              "7        V7  0.006776\n",
              "11      V11  0.005432\n",
              "4        V4  0.004542\n",
              "18      V18  0.003630\n",
              "1        V1  0.003209\n",
              "9        V9  0.003059\n",
              "5        V5  0.002944\n",
              "2        V2  0.002791\n",
              "6        V6  0.000812\n",
              "21      V21  0.000678\n",
              "19      V19  0.000444\n",
              "26      V26  0.000000\n",
              "0      Time  0.000000\n",
              "27      V27  0.000000\n",
              "24      V24  0.000000\n",
              "28      V28  0.000000\n",
              "25      V25  0.000000\n",
              "15      V15  0.000000\n",
              "23      V23  0.000000\n",
              "22      V22  0.000000\n",
              "20      V20  0.000000\n",
              "13      V13  0.000000\n",
              "8        V8  0.000000\n",
              "29   Amount  0.000000"
            ]
          },
          "execution_count": 78,
          "metadata": {},
          "output_type": "execute_result"
        }
      ],
      "source": [
        "# we will now check the coefficients of each feature\n",
        "# features with a non-zero coefficient are considered important\n",
        "lasso_model_features = search.best_estimator_.feature_names_in_\n",
        "lasso_model_coefs = search.best_estimator_.named_steps[\"model\"].coef_\n",
        "lasso_coefs = pd.DataFrame({\"features\": lasso_model_features, \"coefs\": abs(lasso_model_coefs)}, columns=[\"features\", \"coefs\"])\n",
        "lasso_coefs.sort_values(by=[\"coefs\"], ascending=False)"
      ]
    },
    {
      "cell_type": "markdown",
      "metadata": {
        "id": "a9xDqx2TR7hZ"
      },
      "source": [
        "We can above that the coefficients of a few features converged to 0. Before removing the features, we will compare the boxplots once more to see if there are any visual patterns between which features are important and which are not."
      ]
    },
    {
      "cell_type": "code",
      "execution_count": null,
      "metadata": {
        "id": "T_kyROolSn1c"
      },
      "outputs": [],
      "source": [
        "important_features = lasso_coefs.features[lasso_coefs.coefs != 0]\n",
        "non_important_features = lasso_coefs.features[lasso_coefs.coefs == 0]"
      ]
    },
    {
      "cell_type": "code",
      "execution_count": null,
      "metadata": {
        "colab": {
          "base_uri": "https://localhost:8080/",
          "height": 926
        },
        "id": "PvmMxtehTKwD",
        "outputId": "40f15544-39c7-41d3-bcc2-dbb92bc16017"
      },
      "outputs": [
        {
          "name": "stdout",
          "output_type": "stream",
          "text": [
            "Important Features\n"
          ]
        },
        {
          "data": {
            "image/png": "[encoded data removed]",
            "text/plain": [
              "<Figure size 432x288 with 20 Axes>"
            ]
          },
          "metadata": {
            "needs_background": "light"
          },
          "output_type": "display_data"
        }
      ],
      "source": [
        "print(\"Important Features\")\n",
        "fig, axes = plt.subplots(4, 5)\n",
        "for index, col in enumerate(important_features):\n",
        "    ax = sns.boxplot(data=data, x=col, y=\"Class\", orient=\"h\", ax=axes[index // 5, index % 5], showfliers=False)\n",
        "plt.subplots_adjust(top=3.25, right=4.0)"
      ]
    },
    {
      "cell_type": "code",
      "execution_count": null,
      "metadata": {
        "colab": {
          "base_uri": "https://localhost:8080/",
          "height": 926
        },
        "id": "lG9w11-KUgdU",
        "outputId": "3635f004-ed0f-4168-f255-7a02ed02bc2e"
      },
      "outputs": [
        {
          "name": "stdout",
          "output_type": "stream",
          "text": [
            "Unimportant Features\n"
          ]
        },
        {
          "data": {
            "image/png": "[encoded data removed]",
            "text/plain": [
              "<Figure size 432x288 with 16 Axes>"
            ]
          },
          "metadata": {
            "needs_background": "light"
          },
          "output_type": "display_data"
        }
      ],
      "source": [
        "print(\"Unimportant Features\")\n",
        "fig, axes = plt.subplots(4, 4)\n",
        "for index, col in enumerate(non_important_features):\n",
        "    ax = sns.boxplot(data=data, x=col, y=\"Class\", orient=\"h\", ax=axes[index // 4, index % 4], showfliers=False)\n",
        "plt.subplots_adjust(top=3.25, right=4.0)"
      ]
    },
    {
      "cell_type": "markdown",
      "metadata": {
        "id": "PG1CE1ozU596"
      },
      "source": [
        "Interesting to see that all the non-important features are the features that have overlapping classes. We will remove the unimportant features and proceed with the Logistic Regression and SVM modeling."
      ]
    },
    {
      "cell_type": "code",
      "execution_count": null,
      "metadata": {
        "colab": {
          "base_uri": "https://localhost:8080/",
          "height": 364
        },
        "id": "SLxpawhSX544",
        "outputId": "51894d00-cde6-4ec9-c542-7a06b30f5bcf"
      },
      "outputs": [
        {
          "data": {
            "text/html": [
              "\n",
              "  <div id=\"df-7da71e1b-706f-4457-9915-bea77c959c42\">\n",
              "    <div class=\"colab-df-container\">\n",
              "      <div>\n",
              "<style scoped>\n",
              "    .dataframe tbody tr th:only-of-type {\n",
              "        vertical-align: middle;\n",
              "    }\n",
              "\n",
              "    .dataframe tbody tr th {\n",
              "        vertical-align: top;\n",
              "    }\n",
              "\n",
              "    .dataframe thead th {\n",
              "        text-align: right;\n",
              "    }\n",
              "</style>\n",
              "<table border=\"1\" class=\"dataframe\">\n",
              "  <thead>\n",
              "    <tr style=\"text-align: right;\">\n",
              "      <th></th>\n",
              "      <th>V1</th>\n",
              "      <th>V2</th>\n",
              "      <th>V3</th>\n",
              "      <th>V4</th>\n",
              "      <th>V5</th>\n",
              "      <th>V6</th>\n",
              "      <th>V7</th>\n",
              "      <th>V9</th>\n",
              "      <th>V10</th>\n",
              "      <th>V11</th>\n",
              "      <th>V12</th>\n",
              "      <th>V14</th>\n",
              "      <th>V16</th>\n",
              "      <th>V17</th>\n",
              "      <th>V18</th>\n",
              "      <th>V19</th>\n",
              "      <th>V21</th>\n",
              "    </tr>\n",
              "  </thead>\n",
              "  <tbody>\n",
              "    <tr>\n",
              "      <th>count</th>\n",
              "      <td>284806.000000</td>\n",
              "      <td>284806.000000</td>\n",
              "      <td>284806.000000</td>\n",
              "      <td>284806.000000</td>\n",
              "      <td>284806.000000</td>\n",
              "      <td>284806.000000</td>\n",
              "      <td>284806.000000</td>\n",
              "      <td>284806.000000</td>\n",
              "      <td>284806.000000</td>\n",
              "      <td>284806.000000</td>\n",
              "      <td>284806.000000</td>\n",
              "      <td>284806.000000</td>\n",
              "      <td>284806.000000</td>\n",
              "      <td>284806.000000</td>\n",
              "      <td>284806.000000</td>\n",
              "      <td>284806.000000</td>\n",
              "      <td>284806.000000</td>\n",
              "    </tr>\n",
              "    <tr>\n",
              "      <th>mean</th>\n",
              "      <td>0.958294</td>\n",
              "      <td>0.767258</td>\n",
              "      <td>0.837414</td>\n",
              "      <td>0.251930</td>\n",
              "      <td>0.765716</td>\n",
              "      <td>0.263020</td>\n",
              "      <td>0.265355</td>\n",
              "      <td>0.462780</td>\n",
              "      <td>0.508722</td>\n",
              "      <td>0.285286</td>\n",
              "      <td>0.704193</td>\n",
              "      <td>0.646053</td>\n",
              "      <td>0.449352</td>\n",
              "      <td>0.731130</td>\n",
              "      <td>0.653292</td>\n",
              "      <td>0.563315</td>\n",
              "      <td>0.561479</td>\n",
              "    </tr>\n",
              "    <tr>\n",
              "      <th>std</th>\n",
              "      <td>0.033276</td>\n",
              "      <td>0.017424</td>\n",
              "      <td>0.026275</td>\n",
              "      <td>0.062764</td>\n",
              "      <td>0.009292</td>\n",
              "      <td>0.013395</td>\n",
              "      <td>0.007537</td>\n",
              "      <td>0.037846</td>\n",
              "      <td>0.022528</td>\n",
              "      <td>0.060698</td>\n",
              "      <td>0.037660</td>\n",
              "      <td>0.032231</td>\n",
              "      <td>0.027866</td>\n",
              "      <td>0.024678</td>\n",
              "      <td>0.057647</td>\n",
              "      <td>0.063570</td>\n",
              "      <td>0.011841</td>\n",
              "    </tr>\n",
              "    <tr>\n",
              "      <th>min</th>\n",
              "      <td>0.000000</td>\n",
              "      <td>0.000000</td>\n",
              "      <td>0.000000</td>\n",
              "      <td>0.000000</td>\n",
              "      <td>0.000000</td>\n",
              "      <td>0.000000</td>\n",
              "      <td>0.000000</td>\n",
              "      <td>0.000000</td>\n",
              "      <td>0.000000</td>\n",
              "      <td>0.000000</td>\n",
              "      <td>0.000000</td>\n",
              "      <td>0.000000</td>\n",
              "      <td>0.000000</td>\n",
              "      <td>0.000000</td>\n",
              "      <td>0.000000</td>\n",
              "      <td>0.000000</td>\n",
              "      <td>0.000000</td>\n",
              "    </tr>\n",
              "    <tr>\n",
              "      <th>25%</th>\n",
              "      <td>0.942658</td>\n",
              "      <td>0.760943</td>\n",
              "      <td>0.821985</td>\n",
              "      <td>0.214311</td>\n",
              "      <td>0.761060</td>\n",
              "      <td>0.255295</td>\n",
              "      <td>0.261980</td>\n",
              "      <td>0.440626</td>\n",
              "      <td>0.497644</td>\n",
              "      <td>0.239944</td>\n",
              "      <td>0.688906</td>\n",
              "      <td>0.631744</td>\n",
              "      <td>0.434467</td>\n",
              "      <td>0.717074</td>\n",
              "      <td>0.618983</td>\n",
              "      <td>0.527681</td>\n",
              "      <td>0.557798</td>\n",
              "    </tr>\n",
              "    <tr>\n",
              "      <th>50%</th>\n",
              "      <td>0.958601</td>\n",
              "      <td>0.767949</td>\n",
              "      <td>0.840530</td>\n",
              "      <td>0.251051</td>\n",
              "      <td>0.765351</td>\n",
              "      <td>0.260263</td>\n",
              "      <td>0.265600</td>\n",
              "      <td>0.461008</td>\n",
              "      <td>0.506800</td>\n",
              "      <td>0.283338</td>\n",
              "      <td>0.709471</td>\n",
              "      <td>0.647755</td>\n",
              "      <td>0.451464</td>\n",
              "      <td>0.729222</td>\n",
              "      <td>0.653042</td>\n",
              "      <td>0.563607</td>\n",
              "      <td>0.561005</td>\n",
              "    </tr>\n",
              "    <tr>\n",
              "      <th>75%</th>\n",
              "      <td>0.980645</td>\n",
              "      <td>0.775739</td>\n",
              "      <td>0.855214</td>\n",
              "      <td>0.284882</td>\n",
              "      <td>0.769836</td>\n",
              "      <td>0.267027</td>\n",
              "      <td>0.268831</td>\n",
              "      <td>0.483350</td>\n",
              "      <td>0.518114</td>\n",
              "      <td>0.329266</td>\n",
              "      <td>0.727494</td>\n",
              "      <td>0.662635</td>\n",
              "      <td>0.465994</td>\n",
              "      <td>0.742743</td>\n",
              "      <td>0.687736</td>\n",
              "      <td>0.599155</td>\n",
              "      <td>0.564484</td>\n",
              "    </tr>\n",
              "    <tr>\n",
              "      <th>max</th>\n",
              "      <td>1.000000</td>\n",
              "      <td>1.000000</td>\n",
              "      <td>1.000000</td>\n",
              "      <td>1.000000</td>\n",
              "      <td>1.000000</td>\n",
              "      <td>1.000000</td>\n",
              "      <td>1.000000</td>\n",
              "      <td>1.000000</td>\n",
              "      <td>1.000000</td>\n",
              "      <td>1.000000</td>\n",
              "      <td>1.000000</td>\n",
              "      <td>1.000000</td>\n",
              "      <td>1.000000</td>\n",
              "      <td>1.000000</td>\n",
              "      <td>1.000000</td>\n",
              "      <td>1.000000</td>\n",
              "      <td>1.000000</td>\n",
              "    </tr>\n",
              "  </tbody>\n",
              "</table>\n",
              "</div>\n",
              "      <button class=\"colab-df-convert\" onclick=\"convertToInteractive('df-7da71e1b-706f-4457-9915-bea77c959c42')\"\n",
              "              title=\"Convert this dataframe to an interactive table.\"\n",
              "              style=\"display:none;\">\n",
              "        \n",
              "  <svg xmlns=\"http://www.w3.org/2000/svg\" height=\"24px\"viewBox=\"0 0 24 24\"\n",
              "       width=\"24px\">\n",
              "    <path d=\"M0 0h24v24H0V0z\" fill=\"none\"/>\n",
              "    <path d=\"M18.56 5.44l.94 2.06.94-2.06 2.06-.94-2.06-.94-.94-2.06-.94 2.06-2.06.94zm-11 1L8.5 8.5l.94-2.06 2.06-.94-2.06-.94L8.5 2.5l-.94 2.06-2.06.94zm10 10l.94 2.06.94-2.06 2.06-.94-2.06-.94-.94-2.06-.94 2.06-2.06.94z\"/><path d=\"M17.41 7.96l-1.37-1.37c-.4-.4-.92-.59-1.43-.59-.52 0-1.04.2-1.43.59L10.3 9.45l-7.72 7.72c-.78.78-.78 2.05 0 2.83L4 21.41c.39.39.9.59 1.41.59.51 0 1.02-.2 1.41-.59l7.78-7.78 2.81-2.81c.8-.78.8-2.07 0-2.86zM5.41 20L4 18.59l7.72-7.72 1.47 1.35L5.41 20z\"/>\n",
              "  </svg>\n",
              "      </button>\n",
              "      \n",
              "  <style>\n",
              "    .colab-df-container {\n",
              "      display:flex;\n",
              "      flex-wrap:wrap;\n",
              "      gap: 12px;\n",
              "    }\n",
              "\n",
              "    .colab-df-convert {\n",
              "      background-color: #E8F0FE;\n",
              "      border: none;\n",
              "      border-radius: 50%;\n",
              "      cursor: pointer;\n",
              "      display: none;\n",
              "      fill: #1967D2;\n",
              "      height: 32px;\n",
              "      padding: 0 0 0 0;\n",
              "      width: 32px;\n",
              "    }\n",
              "\n",
              "    .colab-df-convert:hover {\n",
              "      background-color: #E2EBFA;\n",
              "      box-shadow: 0px 1px 2px rgba(60, 64, 67, 0.3), 0px 1px 3px 1px rgba(60, 64, 67, 0.15);\n",
              "      fill: #174EA6;\n",
              "    }\n",
              "\n",
              "    [theme=dark] .colab-df-convert {\n",
              "      background-color: #3B4455;\n",
              "      fill: #D2E3FC;\n",
              "    }\n",
              "\n",
              "    [theme=dark] .colab-df-convert:hover {\n",
              "      background-color: #434B5C;\n",
              "      box-shadow: 0px 1px 3px 1px rgba(0, 0, 0, 0.15);\n",
              "      filter: drop-shadow(0px 1px 2px rgba(0, 0, 0, 0.3));\n",
              "      fill: #FFFFFF;\n",
              "    }\n",
              "  </style>\n",
              "\n",
              "      <script>\n",
              "        const buttonEl =\n",
              "          document.querySelector('#df-7da71e1b-706f-4457-9915-bea77c959c42 button.colab-df-convert');\n",
              "        buttonEl.style.display =\n",
              "          google.colab.kernel.accessAllowed ? 'block' : 'none';\n",
              "\n",
              "        async function convertToInteractive(key) {\n",
              "          const element = document.querySelector('#df-7da71e1b-706f-4457-9915-bea77c959c42');\n",
              "          const dataTable =\n",
              "            await google.colab.kernel.invokeFunction('convertToInteractive',\n",
              "                                                     [key], {});\n",
              "          if (!dataTable) return;\n",
              "\n",
              "          const docLinkHtml = 'Like what you see? Visit the ' +\n",
              "            '<a target=\"_blank\" href=https://colab.research.google.com/notebooks/data_table.ipynb>data table notebook</a>'\n",
              "            + ' to learn more about interactive tables.';\n",
              "          element.innerHTML = '';\n",
              "          dataTable['output_type'] = 'display_data';\n",
              "          await google.colab.output.renderOutput(dataTable, element);\n",
              "          const docLink = document.createElement('div');\n",
              "          docLink.innerHTML = docLinkHtml;\n",
              "          element.appendChild(docLink);\n",
              "        }\n",
              "      </script>\n",
              "    </div>\n",
              "  </div>\n",
              "  "
            ],
            "text/plain": [
              "                  V1             V2             V3             V4  \\\n",
              "count  284806.000000  284806.000000  284806.000000  284806.000000   \n",
              "mean        0.958294       0.767258       0.837414       0.251930   \n",
              "std         0.033276       0.017424       0.026275       0.062764   \n",
              "min         0.000000       0.000000       0.000000       0.000000   \n",
              "25%         0.942658       0.760943       0.821985       0.214311   \n",
              "50%         0.958601       0.767949       0.840530       0.251051   \n",
              "75%         0.980645       0.775739       0.855214       0.284882   \n",
              "max         1.000000       1.000000       1.000000       1.000000   \n",
              "\n",
              "                  V5             V6             V7             V9  \\\n",
              "count  284806.000000  284806.000000  284806.000000  284806.000000   \n",
              "mean        0.765716       0.263020       0.265355       0.462780   \n",
              "std         0.009292       0.013395       0.007537       0.037846   \n",
              "min         0.000000       0.000000       0.000000       0.000000   \n",
              "25%         0.761060       0.255295       0.261980       0.440626   \n",
              "50%         0.765351       0.260263       0.265600       0.461008   \n",
              "75%         0.769836       0.267027       0.268831       0.483350   \n",
              "max         1.000000       1.000000       1.000000       1.000000   \n",
              "\n",
              "                 V10            V11            V12            V14  \\\n",
              "count  284806.000000  284806.000000  284806.000000  284806.000000   \n",
              "mean        0.508722       0.285286       0.704193       0.646053   \n",
              "std         0.022528       0.060698       0.037660       0.032231   \n",
              "min         0.000000       0.000000       0.000000       0.000000   \n",
              "25%         0.497644       0.239944       0.688906       0.631744   \n",
              "50%         0.506800       0.283338       0.709471       0.647755   \n",
              "75%         0.518114       0.329266       0.727494       0.662635   \n",
              "max         1.000000       1.000000       1.000000       1.000000   \n",
              "\n",
              "                 V16            V17            V18            V19  \\\n",
              "count  284806.000000  284806.000000  284806.000000  284806.000000   \n",
              "mean        0.449352       0.731130       0.653292       0.563315   \n",
              "std         0.027866       0.024678       0.057647       0.063570   \n",
              "min         0.000000       0.000000       0.000000       0.000000   \n",
              "25%         0.434467       0.717074       0.618983       0.527681   \n",
              "50%         0.451464       0.729222       0.653042       0.563607   \n",
              "75%         0.465994       0.742743       0.687736       0.599155   \n",
              "max         1.000000       1.000000       1.000000       1.000000   \n",
              "\n",
              "                 V21  \n",
              "count  284806.000000  \n",
              "mean        0.561479  \n",
              "std         0.011841  \n",
              "min         0.000000  \n",
              "25%         0.557798  \n",
              "50%         0.561005  \n",
              "75%         0.564484  \n",
              "max         1.000000  "
            ]
          },
          "execution_count": 83,
          "metadata": {},
          "output_type": "execute_result"
        }
      ],
      "source": [
        "X_selected = X_minmaxscaled[important_features]\n",
        "X_selected.describe()"
      ]
    },
    {
      "cell_type": "markdown",
      "metadata": {
        "id": "nc3XnAmYEYiE"
      },
      "source": [
        "#### Modeling"
      ]
    },
    {
      "cell_type": "markdown",
      "metadata": {
        "id": "iNMru11-eAk5"
      },
      "source": [
        "The two supervised learning models we are going to use for this project are Logistic Regression and Support Vector Machine (SVM). \n",
        "\n",
        "Logistic Regression is classification model that assumes the target values Binomially distributed. The model output the probability $P$ that an observations belongs to a certain class, $C_1$ for example. If $P \\ge 0.5$ (where 0.5 is the decision threshold) for an observation, then that observation will belong to class $C_1$. Since our target value has a binary outcome, then the observation will belong to the other class, $C_2$ for example, if $P \\le 0.5$. \n",
        "\n",
        "A Support Vector Machine is a classification and regression model that maps data into a high-dimensional space so that linearly inseparable data can be separated by a hyperplane, with the largest margin achievable between both classes, without overfitting. SVMs have two hyperparameters: $C$ and $\\gamma$. \n",
        "- $C$: the C hyperparameter is a penalty parameter used to control error. Higher C values will make the SVM misclassify less points.\n",
        "- $\\gamma$: the gamma hyperparameter is used to give curvature weight on the decision boundary. Higher gamma values will fit the training data more precisely. "
      ]
    },
    {
      "cell_type": "code",
      "execution_count": null,
      "metadata": {
        "id": "7ZmlDhTZAJ9P"
      },
      "outputs": [],
      "source": [
        "# split the data into a train test set while balancing the class ratio since the data is unbalanced\n",
        "X_train, X_test, y_train, y_test = train_test_split(X_selected, y, test_size=0.2, stratify=y)"
      ]
    },
    {
      "cell_type": "markdown",
      "metadata": {
        "id": "4Ux2_zfieUaO"
      },
      "source": [
        "##### Logistic Regression\n",
        "\n",
        "Next, we will create an Logistic Regression model on the entire dataset as the first run-through"
      ]
    },
    {
      "cell_type": "code",
      "execution_count": null,
      "metadata": {
        "colab": {
          "base_uri": "https://localhost:8080/"
        },
        "id": "6qZgZh7PBSpD",
        "outputId": "4e2bf97b-90cf-43d5-d16f-c5272358c496"
      },
      "outputs": [
        {
          "name": "stdout",
          "output_type": "stream",
          "text": [
            "Accuracy: 0.9990\n"
          ]
        }
      ],
      "source": [
        "log_reg1 = LogisticRegression(max_iter=7e3)\n",
        "log_reg1.fit(X_train, y_train)\n",
        "y_test_logreg1 = log_reg1.predict(X_test)\n",
        "accuracy = np.mean(y_test == y_test_logreg1)\n",
        "print(\"Accuracy: %.4f\" % accuracy)"
      ]
    },
    {
      "cell_type": "markdown",
      "metadata": {
        "id": "9uu7y1VvBn-H"
      },
      "source": [
        "The accuracy looks fantastic! However, since the data is unbalanced then the accuracy alone may not be the best metric to use because the over-represented class (non-fraudulent transactions) may be getting predicted more than the under-represented class (fraudulent transactions). We should use a confusion matrix to have a better look at these results. In the confusion matrix we are interested in three metrics: precision, recall, and F-1 score.\n",
        "\n",
        "$$Precision = \\frac{TP}{TP + FP}$$\n",
        "(proportion of correctly predicted fraudulent transactions from the pool of transactions predicted fraudulent)\n",
        "\n",
        "$$Recall = \\frac{TP}{TP + FN}$$\n",
        "(proportion of correctly predicted fraudulent transactions from the pool of transactions actually fraudulent)\n",
        "\n",
        "$$F1 Score = 2 \\times \\frac{Precision \\times Recall}{Precision + Recall}$$\n",
        "(measure of a model's accuracy on a dataset, especially an imbalanced one)"
      ]
    },
    {
      "cell_type": "code",
      "execution_count": null,
      "metadata": {
        "colab": {
          "base_uri": "https://localhost:8080/",
          "height": 388
        },
        "id": "Y7VDqG9CCHAV",
        "outputId": "8e1cf2c2-8f8e-4d65-dfff-13abe01b37d5"
      },
      "outputs": [
        {
          "name": "stderr",
          "output_type": "stream",
          "text": [
            "/usr/local/lib/python3.7/dist-packages/sklearn/utils/deprecation.py:87: FutureWarning: Function plot_confusion_matrix is deprecated; Function `plot_confusion_matrix` is deprecated in 1.0 and will be removed in 1.2. Use one of the class methods: ConfusionMatrixDisplay.from_predictions or ConfusionMatrixDisplay.from_estimator.\n",
            "  warnings.warn(msg, category=FutureWarning)\n"
          ]
        },
        {
          "data": {
            "image/png": "[encoded data removed]",
            "text/plain": [
              "<Figure size 432x288 with 2 Axes>"
            ]
          },
          "metadata": {
            "needs_background": "light"
          },
          "output_type": "display_data"
        },
        {
          "name": "stdout",
          "output_type": "stream",
          "text": [
            "Precision: 0.8475\n",
            "Recall 0.5102\n",
            "F-Score: 0.6369\n"
          ]
        }
      ],
      "source": [
        "plot_confusion_matrix(log_reg1, X_test, y_test)\n",
        "plt.show()\n",
        "precision = precision_score(y_test, y_test_logreg1)\n",
        "recall = recall_score(y_test, y_test_logreg1)\n",
        "fscore = f1_score(y_test, y_test_logreg1)\n",
        "print(\"Precision: %.4f\\nRecall %.4f\\nF-Score: %.4f\" % (precision, recall, fscore))"
      ]
    },
    {
      "cell_type": "markdown",
      "metadata": {
        "id": "HCWsJUwkEi3Z"
      },
      "source": [
        "The confusion matrix and our metics above tells a more compelling story since we are particularly interested in detecting fraudulent transactions. Our goal will be to maximize these metrics by reducing the false positives and false negatives. We will need to do some more preprocessing to improve our model and our focus would be to improve the prediction of fraudulent transactions. "
      ]
    },
    {
      "cell_type": "markdown",
      "metadata": {
        "id": "dOYeorjEvveF"
      },
      "source": [
        "##### Balancing Dataset\n",
        "We can attempt to use the proposed approach discussed in the article [A Novel Approach for Handling Outliers in Imbalanced Data](https://www.sciencepubco.com/index.php/ijet/article/view/16783/7212). [2] The article suggest first splitting the data based on the targets so that we have majority data a minority data, then we generate synthetic data on the minority class using SMOTE (Synthetic Minority Oversampling Technique), and then we combine the majority and minority data back together and perform outlier removal using Mahalanobis distance. \n",
        "\n",
        "Let's begin this approach by oversampling the minority class using SMOTE."
      ]
    },
    {
      "cell_type": "code",
      "execution_count": null,
      "metadata": {
        "colab": {
          "base_uri": "https://localhost:8080/"
        },
        "id": "4F8-4UDtHNE-",
        "outputId": "7065a21f-18a2-4fc3-ea81-d0ce5823d7f2"
      },
      "outputs": [
        {
          "data": {
            "text/plain": [
              "0    227450\n",
              "1     45490\n",
              "Name: Class, dtype: int64"
            ]
          },
          "execution_count": 143,
          "metadata": {},
          "output_type": "execute_result"
        }
      ],
      "source": [
        "# oversample the minority class using SMOTE\n",
        "smote = SMOTE(sampling_strategy=0.2)\n",
        "oversampled_X, oversampled_y = smote.fit_resample(X_train, y_train)\n",
        "oversampled_y.value_counts()"
      ]
    },
    {
      "cell_type": "code",
      "execution_count": null,
      "metadata": {
        "id": "cJHsR6NU1CJF"
      },
      "outputs": [],
      "source": [
        "# fit a logistic regression model with the newly oversampled training data\n",
        "log_reg2 = LogisticRegression(max_iter=7000)\n",
        "log_reg2.fit(oversampled_X, oversampled_y)\n",
        "y_test_logreg2 = log_reg2.predict(X_test)"
      ]
    },
    {
      "cell_type": "code",
      "execution_count": null,
      "metadata": {
        "colab": {
          "base_uri": "https://localhost:8080/",
          "height": 388
        },
        "id": "pfgFHgzb1CJF",
        "outputId": "d3425533-bcc6-4935-f8b2-76efb2aed16c"
      },
      "outputs": [
        {
          "name": "stderr",
          "output_type": "stream",
          "text": [
            "/usr/local/lib/python3.7/dist-packages/sklearn/utils/deprecation.py:87: FutureWarning: Function plot_confusion_matrix is deprecated; Function `plot_confusion_matrix` is deprecated in 1.0 and will be removed in 1.2. Use one of the class methods: ConfusionMatrixDisplay.from_predictions or ConfusionMatrixDisplay.from_estimator.\n",
            "  warnings.warn(msg, category=FutureWarning)\n"
          ]
        },
        {
          "data": {
            "image/png": "[encoded data removed]",
            "text/plain": [
              "<Figure size 432x288 with 2 Axes>"
            ]
          },
          "metadata": {
            "needs_background": "light"
          },
          "output_type": "display_data"
        },
        {
          "name": "stdout",
          "output_type": "stream",
          "text": [
            "Precision: 0.1991\n",
            "Recall 0.8673\n",
            "F-Score: 0.3238\n"
          ]
        }
      ],
      "source": [
        "plot_confusion_matrix(log_reg2, X_test, y_test)\n",
        "plt.show()\n",
        "precision = precision_score(y_test, y_test_logreg2)\n",
        "recall = recall_score(y_test, y_test_logreg2)\n",
        "fscore = f1_score(y_test, y_test_logreg2)\n",
        "print(\"Precision: %.4f\\nRecall %.4f\\nF-Score: %.4f\" % (precision, recall, fscore))"
      ]
    },
    {
      "cell_type": "markdown",
      "metadata": {
        "id": "ssL5_DdK1CJG"
      },
      "source": [
        "This is actually a lot worse now. The fact that there are more false negatives could mean that the increase in synthetic fraudulent transactions could have resulted in a ton of noise in the modeling. Even if we attempt to do outlier removal, we may still end up with more noise in the data than before. We should probably consider a less sophisticated approach. "
      ]
    },
    {
      "cell_type": "markdown",
      "metadata": {
        "id": "P91uEKGzOG4T"
      },
      "source": [
        "##### Tuning the Logistic Regression Decision Threshold"
      ]
    },
    {
      "cell_type": "markdown",
      "metadata": {
        "id": "GZdXrEgaalLE"
      },
      "source": [
        "When doing Logistic Regression, we know that the probability of $C_1$ given the feature vector $\\overrightarrow{x}$ is\n",
        "$$P(C_1|\\overrightarrow{x}) = \\frac{1}{1 + e^{-(w^T\\overrightarrow{x})}}$$\n",
        "\n",
        "and we will classify an observation as $C_1$ if $P(C_1|\\overrightarrow{x}) \\ge 0.5$, where $0.5$ is the decision threshold. \n",
        "\n",
        "To facilitate our situation with the unbalanced data, we can tune the decision threshold until the F-1 score is maximized. "
      ]
    },
    {
      "cell_type": "code",
      "execution_count": null,
      "metadata": {
        "colab": {
          "base_uri": "https://localhost:8080/",
          "height": 295
        },
        "id": "IL227caUQFMS",
        "outputId": "376cca24-b18c-4a67-8b63-f51be386d9ce"
      },
      "outputs": [
        {
          "data": {
            "image/png": "[encoded data removed]",
            "text/plain": [
              "<Figure size 432x288 with 1 Axes>"
            ]
          },
          "metadata": {
            "needs_background": "light"
          },
          "output_type": "display_data"
        }
      ],
      "source": [
        "# find the logistic regression decision threshold that minimizes the difference between the precision and recall\n",
        "y_test_probability = log_reg1.predict_proba(X_test)\n",
        "precision_arr, recall_arr, threshold_arr = precision_recall_curve(y_test, y_test_probability[:, 1])\n",
        "fscore_arr = 2 * precision_arr * recall_arr / (precision_arr + recall_arr)\n",
        "optimal_t_index = np.argmax(fscore_arr)\n",
        "optimal_t = threshold_arr[optimal_t_index]\n",
        "\n",
        "# plot results\n",
        "plt.title(\"F-1 Score\")\n",
        "plt.scatter(optimal_t, fscore_arr[optimal_t_index], facecolor=\"green\", label=\"(%.4f, %.4f)\" % (optimal_t, fscore_arr[optimal_t_index]))\n",
        "plt.plot(threshold_arr, fscore_arr[: -1], \"blue\", label=\"F-1 Score\")\n",
        "plt.xlabel(\"Threshold\")\n",
        "plt.xticks(np.linspace(0, 1, 11))\n",
        "plt.yticks(np.linspace(0, 1, 11))\n",
        "plt.legend()\n",
        "plt.show()"
      ]
    },
    {
      "cell_type": "markdown",
      "metadata": {
        "id": "b4wv4URmekPl"
      },
      "source": [
        "The graph above looks very promising! The fact that the decision threshold that yields the maximum F-1 score is very small should make sense. Since the data is extremely unbalanced, the decision boundary will be very small. \n",
        "\n",
        "Now let's perform stratified k-fold cross validation with this new approach. The benefit of using stratified k-fold cross validation over regular k-fold is that the former preserves the proportion of classes amongst all k folds. Using regular k-fold may results in some folds containing observations from only one class. "
      ]
    },
    {
      "cell_type": "code",
      "execution_count": null,
      "metadata": {
        "id": "5bTdmsMdbj5j"
      },
      "outputs": [],
      "source": [
        "def modifiedLogisticRegression(X_data, y_data, kfold=None, max_iterations=7e3, decision_th=None):\n",
        "    # X_data: dataframe containing inputs\n",
        "    # y_data: series containing targets\n",
        "    # kfold: KFold or StratifiedKFold object used for cross validation.\n",
        "    # max_iterations: maximum number of iterations for the model\n",
        "    # decision_th: custom decision threshold for Logistic Regression\n",
        "    f1_scores = []\n",
        "\n",
        "    # if kfold, store all k folds into a list. Otherwise, (X_data, y_data) is the only fold\n",
        "    if kfold:\n",
        "        folds = []\n",
        "        for train_index, test_index in kfold.split(X_data, y_data):\n",
        "            X_train, y_train = X_data.iloc[train_index], y_data.iloc[train_index]\n",
        "            X_test, y_test = X_data.iloc[test_index], y_data.iloc[test_index]\n",
        "            folds.append((X_train, X_test, y_train, y_test))\n",
        "    else:\n",
        "        X_train, X_test, y_train, y_test = train_test_split(X_data, y_data, test_size=0.2, stratify=y_data)\n",
        "        folds = [(X_train, X_test, y_train, y_test)]\n",
        "\n",
        "    # perform modified logistic regression\n",
        "    for X_train, X_test, y_train, y_test in folds:\n",
        "        # use the logistic regression model with modified decision threshold\n",
        "        log_reg_model = LogisticRegression(max_iter=max_iterations)\n",
        "        log_reg_model.fit(X_train, y_train)\n",
        "\n",
        "        # compute the optimal decision threshold (or use decision_th) and predict y_test\n",
        "        y_test_prob = log_reg_model.predict_proba(X_test)\n",
        "        if decision_th:\n",
        "            y_test_hat = (log_reg_model.predict_proba(X_test)[:, 1] >= decision_th).astype(int)\n",
        "        else:\n",
        "            precision_arr, recall_arr, threshold_arr = precision_recall_curve(y_test, y_test_prob[:, 1])\n",
        "            f_arr = 2 * precision_arr * recall_arr / (precision_arr + recall_arr)\n",
        "            optimal_t = threshold_arr[np.argmax(f_arr)]\n",
        "            y_test_hat = (log_reg_model.predict_proba(X_test)[:, 1] >= optimal_t).astype(int)\n",
        "        \n",
        "        # compute precision, recall, and f-score\n",
        "        precision = precision_score(y_test, y_test_hat)\n",
        "        recall = recall_score(y_test, y_test_hat)\n",
        "        fscore = f1_score(y_test, y_test_hat)\n",
        "        f1_scores.append(fscore)\n",
        "        print(\"Threshold: %.4f, Precision: %.4f, Recall %.4f, F-1 Score: %.4f\" % (optimal_t, precision, recall, fscore))\n",
        "    \n",
        "    return f1_scores\n"
      ]
    },
    {
      "cell_type": "code",
      "execution_count": null,
      "metadata": {
        "id": "1sb9eFPsI5YZ"
      },
      "outputs": [],
      "source": [
        "skf = StratifiedKFold(n_splits=5)"
      ]
    },
    {
      "cell_type": "code",
      "execution_count": null,
      "metadata": {
        "colab": {
          "base_uri": "https://localhost:8080/"
        },
        "id": "QopFS8QihB8s",
        "outputId": "a8cafa5f-3e79-4487-d968-3d5076bd2776"
      },
      "outputs": [
        {
          "name": "stdout",
          "output_type": "stream",
          "text": [
            "Threshold: 0.1186, Precision: 0.7031, Recall 0.9091, F1-Score: 0.7930\n",
            "Threshold: 0.0278, Precision: 0.9535, Recall 0.8367, F1-Score: 0.8913\n",
            "Threshold: 0.0347, Precision: 0.7273, Recall 0.6531, F1-Score: 0.6882\n",
            "Threshold: 0.1397, Precision: 0.9600, Recall 0.7347, F1-Score: 0.8324\n",
            "Threshold: 0.0149, Precision: 0.7723, Recall 0.7879, F1-Score: 0.7800\n",
            "Average F-1 score: 0.7970\n"
          ]
        }
      ],
      "source": [
        "logreg_scores = modifiedLogisticRegression(X_data=X_selected, y_data=y, kfold=skf)\n",
        "print(\"Average F-1 score: %.4f\" % np.mean(logreg_scores))"
      ]
    },
    {
      "cell_type": "markdown",
      "metadata": {
        "id": "3QSJhPgRkKcJ"
      },
      "source": [
        "We can see from the results above that the second fold is the one with the highest F-1 Score and has a decision threshold of $0.0278$. While the F-1 Score is $0.8913$ and average F-1 Score is $0.7970$, we may consider using other models for a better prediction.  "
      ]
    },
    {
      "cell_type": "markdown",
      "metadata": {
        "id": "DZ_YXxlkTej4"
      },
      "source": [
        "##### Support Vector Machine"
      ]
    },
    {
      "cell_type": "markdown",
      "metadata": {
        "id": "DKS1wrtJ9g2_"
      },
      "source": [
        "Let's begin by using an SVM with its default values ($C$=1.0, $\\gamma$=$(n_{features} \\times X.var())^{-1}$)"
      ]
    },
    {
      "cell_type": "code",
      "execution_count": null,
      "metadata": {
        "colab": {
          "base_uri": "https://localhost:8080/"
        },
        "id": "VO45wef59g2_",
        "outputId": "909ca091-1fff-4a0a-c1d9-de57c9c38e56"
      },
      "outputs": [
        {
          "name": "stdout",
          "output_type": "stream",
          "text": [
            "Precision: 0.8587\n",
            "Recall 0.8061\n",
            "F-Score: 0.8316\n"
          ]
        }
      ],
      "source": [
        "svm_classif = SVC()\n",
        "svm_classif.fit(X_train, y_train)\n",
        "y_test_svm1 = svm_classif.predict(X_test)\n",
        "\n",
        "precision = precision_score(y_test, y_test_svm1)\n",
        "recall = recall_score(y_test, y_test_svm1)\n",
        "fscore = f1_score(y_test, y_test_svm1)\n",
        "print(\"Precision: %.4f\\nRecall %.4f\\nF-Score: %.4f\" % (precision, recall, fscore))"
      ]
    },
    {
      "cell_type": "markdown",
      "metadata": {
        "id": "Y2x_v_ZY9g2_"
      },
      "source": [
        "Not too bad for the first run! It is worth noting that SVMs do not perform well under the presence of outliers because outliers can lead to a high misclassification rate which may also increase the computational power required to make the model converge. Let's consider removing the observations that contain outliers and are also classified as non-fraudulent. "
      ]
    },
    {
      "cell_type": "markdown",
      "metadata": {
        "id": "46cdOsCqWGI1"
      },
      "source": [
        "##### Outlier Removal"
      ]
    },
    {
      "cell_type": "code",
      "execution_count": null,
      "metadata": {
        "id": "CK3fZBn-2uQg"
      },
      "outputs": [],
      "source": [
        "# extract all rows that are either fraudulent or do not have outliers in any features and are non-fraudulent\n",
        "# drop all unimportant features\n",
        "indices = np.logical_or(np.logical_and((np.abs(stats.zscore(X)) < 3).all(axis=1), y == 0), y == 1)\n",
        "X_nofliers = X[indices]\n",
        "y_nofliers = y[indices]\n",
        "X_nofliers = X_nofliers.drop(non_important_features, axis=1)"
      ]
    },
    {
      "cell_type": "code",
      "execution_count": null,
      "metadata": {
        "colab": {
          "base_uri": "https://localhost:8080/",
          "height": 295
        },
        "id": "-8GyZyb76I1l",
        "outputId": "4672100f-1c23-4f89-bda0-85d832e5a4b8"
      },
      "outputs": [
        {
          "data": {
            "image/png": "[encoded data removed]",
            "text/plain": [
              "<Figure size 432x288 with 2 Axes>"
            ]
          },
          "metadata": {
            "needs_background": "light"
          },
          "output_type": "display_data"
        }
      ],
      "source": [
        "plt.subplot(1, 2, 1)\n",
        "plt.title(\"Before Outlier Removal\")\n",
        "plt.scatter(X.V12[y == 0], X.V14[y == 0], c=\"b\")\n",
        "plt.scatter(X.V12[y == 1], X.V14[y == 1], c=\"r\")\n",
        "plt.xlabel(\"V12\")\n",
        "plt.ylabel(\"V14\")\n",
        "\n",
        "plt.subplot(1, 2, 2)\n",
        "plt.title(\"After Outlier Removal\")\n",
        "plt.scatter(X_nofliers.V12[y_nofliers == 0], X_nofliers.V14[y_nofliers == 0], c=\"b\")\n",
        "plt.scatter(X_nofliers.V12[y_nofliers == 1], X_nofliers.V14[y_nofliers == 1], c=\"r\")\n",
        "plt.xlabel(\"V12\")\n",
        "plt.ylabel(\"V14\")\n",
        "\n",
        "plt.subplots_adjust(right=2.0)\n",
        "plt.show()"
      ]
    },
    {
      "cell_type": "code",
      "execution_count": null,
      "metadata": {
        "colab": {
          "base_uri": "https://localhost:8080/"
        },
        "id": "fKbKlnISfg0T",
        "outputId": "9f87eefe-b16f-4ab2-983d-91d7a25e6dc2"
      },
      "outputs": [
        {
          "data": {
            "text/plain": [
              "0    246942\n",
              "1       492\n",
              "Name: Class, dtype: int64"
            ]
          },
          "execution_count": 192,
          "metadata": {},
          "output_type": "execute_result"
        }
      ],
      "source": [
        "y_nofliers.value_counts()"
      ]
    },
    {
      "cell_type": "markdown",
      "metadata": {
        "id": "NcXZfbAyu9XJ"
      },
      "source": [
        "We can see above that the outlier removal dramatically improved the decision boundary between the classes. The features $V12$ and $V14$ were chosen arbitrarily for this example. "
      ]
    },
    {
      "cell_type": "markdown",
      "metadata": {
        "id": "XXtE-fsPf3z_"
      },
      "source": [
        "##### Retry SVM Without Outliers"
      ]
    },
    {
      "cell_type": "markdown",
      "metadata": {
        "id": "HY16HuR6vQER"
      },
      "source": [
        "Let's check the performance of an SVM without outliers in the data. We should see an improvement!"
      ]
    },
    {
      "cell_type": "code",
      "execution_count": null,
      "metadata": {
        "id": "CYIPXffOA6SZ"
      },
      "outputs": [],
      "source": [
        "# standardize all features for the SVM models\n",
        "stan_scaler = StandardScaler()\n",
        "X_nofliers = pd.DataFrame(stan_scaler.fit_transform(X_nofliers), columns=X_nofliers.columns)"
      ]
    },
    {
      "cell_type": "code",
      "execution_count": null,
      "metadata": {
        "id": "zq18vIoCrbd5"
      },
      "outputs": [],
      "source": [
        "# split the data into a train test set\n",
        "X_train_nofliers, X_test_nofliers, y_train_nofliers, y_test_nofliers = train_test_split(X_nofliers, y_nofliers, test_size=0.2, stratify=y_nofliers)"
      ]
    },
    {
      "cell_type": "code",
      "execution_count": null,
      "metadata": {
        "colab": {
          "base_uri": "https://localhost:8080/"
        },
        "id": "nCEmhsXKgkEH",
        "outputId": "b6ded2c7-4d11-4178-faac-9ffe3e39865a"
      },
      "outputs": [
        {
          "name": "stdout",
          "output_type": "stream",
          "text": [
            "Precision: 1.0000\n",
            "Recall 0.8571\n",
            "F-Score: 0.9231\n"
          ]
        }
      ],
      "source": [
        "svm_classif = SVC(max_iter=7e3)\n",
        "svm_classif.fit(X_train_nofliers, y_train_nofliers)\n",
        "y_test_svm2 = svm_classif.predict(X_test_nofliers)\n",
        "\n",
        "precision = precision_score(y_test_nofliers, y_test_svm2)\n",
        "recall = recall_score(y_test_nofliers, y_test_svm2)\n",
        "fscore = f1_score(y_test_nofliers, y_test_svm2)\n",
        "print(\"Precision: %.4f\\nRecall %.4f\\nF-Score: %.4f\" % (precision, recall, fscore))"
      ]
    },
    {
      "cell_type": "markdown",
      "metadata": {
        "id": "_CZ6ozYSvgPo"
      },
      "source": [
        "The performance of this SVM classifier overcomes the performance of our modified Logistic Regression approach! \n",
        "\n",
        "Perhaps we can improve these results further by tuning the $C$ parameter of the SVM. We can do this using GridSearchCV. "
      ]
    },
    {
      "cell_type": "code",
      "execution_count": null,
      "metadata": {
        "id": "YB2ZXiBJXieL"
      },
      "outputs": [],
      "source": [
        "skf_split = skf.split(X_nofliers, y_nofliers)"
      ]
    },
    {
      "cell_type": "code",
      "execution_count": null,
      "metadata": {
        "colab": {
          "base_uri": "https://localhost:8080/"
        },
        "id": "NdDaFsrR9g2_",
        "outputId": "87d440d2-0a88-45fc-9f11-fec728df14c0"
      },
      "outputs": [
        {
          "name": "stdout",
          "output_type": "stream",
          "text": [
            "Fitting 5 folds for each of 6 candidates, totalling 30 fits\n",
            "[CV 1/5] END .............................C=0.1;, score=0.097 total time=  24.7s\n",
            "[CV 2/5] END .............................C=0.1;, score=0.339 total time=  25.3s\n",
            "[CV 3/5] END .............................C=0.1;, score=0.322 total time=  25.0s\n",
            "[CV 4/5] END .............................C=0.1;, score=0.096 total time=  25.6s\n",
            "[CV 5/5] END .............................C=0.1;, score=0.168 total time=  24.7s\n",
            "[CV 1/5] END .............................C=1.0;, score=0.952 total time=  41.2s\n",
            "[CV 2/5] END .............................C=1.0;, score=0.923 total time=  39.0s\n",
            "[CV 3/5] END .............................C=1.0;, score=0.894 total time=  38.2s\n",
            "[CV 4/5] END .............................C=1.0;, score=0.935 total time=  48.2s\n",
            "[CV 5/5] END .............................C=1.0;, score=0.905 total time=  40.4s\n",
            "[CV 1/5] END ............................C=10.0;, score=0.947 total time=  41.5s\n",
            "[CV 2/5] END ............................C=10.0;, score=0.923 total time=  39.2s\n",
            "[CV 3/5] END ............................C=10.0;, score=0.620 total time=  49.1s\n",
            "[CV 4/5] END ............................C=10.0;, score=0.805 total time=  41.2s\n",
            "[CV 5/5] END ............................C=10.0;, score=0.911 total time=  40.6s\n"
          ]
        },
        {
          "name": "stderr",
          "output_type": "stream",
          "text": [
            "/usr/local/lib/python3.7/dist-packages/sklearn/svm/_base.py:289: ConvergenceWarning: Solver terminated early (max_iter=7000).  Consider pre-processing your data with StandardScaler or MinMaxScaler.\n",
            "  ConvergenceWarning,\n"
          ]
        },
        {
          "name": "stdout",
          "output_type": "stream",
          "text": [
            "[CV 1/5] END ...........................C=100.0;, score=0.587 total time=  14.6s\n"
          ]
        },
        {
          "name": "stderr",
          "output_type": "stream",
          "text": [
            "/usr/local/lib/python3.7/dist-packages/sklearn/svm/_base.py:289: ConvergenceWarning: Solver terminated early (max_iter=7000).  Consider pre-processing your data with StandardScaler or MinMaxScaler.\n",
            "  ConvergenceWarning,\n"
          ]
        },
        {
          "name": "stdout",
          "output_type": "stream",
          "text": [
            "[CV 2/5] END ...........................C=100.0;, score=0.783 total time=  22.2s\n",
            "[CV 3/5] END ...........................C=100.0;, score=0.535 total time=  28.4s\n"
          ]
        },
        {
          "name": "stderr",
          "output_type": "stream",
          "text": [
            "/usr/local/lib/python3.7/dist-packages/sklearn/svm/_base.py:289: ConvergenceWarning: Solver terminated early (max_iter=7000).  Consider pre-processing your data with StandardScaler or MinMaxScaler.\n",
            "  ConvergenceWarning,\n"
          ]
        },
        {
          "name": "stdout",
          "output_type": "stream",
          "text": [
            "[CV 4/5] END ...........................C=100.0;, score=0.610 total time=  22.2s\n"
          ]
        },
        {
          "name": "stderr",
          "output_type": "stream",
          "text": [
            "/usr/local/lib/python3.7/dist-packages/sklearn/svm/_base.py:289: ConvergenceWarning: Solver terminated early (max_iter=7000).  Consider pre-processing your data with StandardScaler or MinMaxScaler.\n",
            "  ConvergenceWarning,\n"
          ]
        },
        {
          "name": "stdout",
          "output_type": "stream",
          "text": [
            "[CV 5/5] END ...........................C=100.0;, score=0.837 total time=  22.4s\n"
          ]
        },
        {
          "name": "stderr",
          "output_type": "stream",
          "text": [
            "/usr/local/lib/python3.7/dist-packages/sklearn/svm/_base.py:289: ConvergenceWarning: Solver terminated early (max_iter=7000).  Consider pre-processing your data with StandardScaler or MinMaxScaler.\n",
            "  ConvergenceWarning,\n"
          ]
        },
        {
          "name": "stdout",
          "output_type": "stream",
          "text": [
            "[CV 1/5] END ..........................C=1000.0;, score=0.421 total time=  12.2s\n"
          ]
        },
        {
          "name": "stderr",
          "output_type": "stream",
          "text": [
            "/usr/local/lib/python3.7/dist-packages/sklearn/svm/_base.py:289: ConvergenceWarning: Solver terminated early (max_iter=7000).  Consider pre-processing your data with StandardScaler or MinMaxScaler.\n",
            "  ConvergenceWarning,\n"
          ]
        },
        {
          "name": "stdout",
          "output_type": "stream",
          "text": [
            "[CV 2/5] END ..........................C=1000.0;, score=0.514 total time=  11.1s\n"
          ]
        },
        {
          "name": "stderr",
          "output_type": "stream",
          "text": [
            "/usr/local/lib/python3.7/dist-packages/sklearn/svm/_base.py:289: ConvergenceWarning: Solver terminated early (max_iter=7000).  Consider pre-processing your data with StandardScaler or MinMaxScaler.\n",
            "  ConvergenceWarning,\n"
          ]
        },
        {
          "name": "stdout",
          "output_type": "stream",
          "text": [
            "[CV 3/5] END ..........................C=1000.0;, score=0.521 total time=  10.5s\n"
          ]
        },
        {
          "name": "stderr",
          "output_type": "stream",
          "text": [
            "/usr/local/lib/python3.7/dist-packages/sklearn/svm/_base.py:289: ConvergenceWarning: Solver terminated early (max_iter=7000).  Consider pre-processing your data with StandardScaler or MinMaxScaler.\n",
            "  ConvergenceWarning,\n"
          ]
        },
        {
          "name": "stdout",
          "output_type": "stream",
          "text": [
            "[CV 4/5] END ..........................C=1000.0;, score=0.382 total time=  11.6s\n"
          ]
        },
        {
          "name": "stderr",
          "output_type": "stream",
          "text": [
            "/usr/local/lib/python3.7/dist-packages/sklearn/svm/_base.py:289: ConvergenceWarning: Solver terminated early (max_iter=7000).  Consider pre-processing your data with StandardScaler or MinMaxScaler.\n",
            "  ConvergenceWarning,\n"
          ]
        },
        {
          "name": "stdout",
          "output_type": "stream",
          "text": [
            "[CV 5/5] END ..........................C=1000.0;, score=0.583 total time=  11.6s\n"
          ]
        },
        {
          "name": "stderr",
          "output_type": "stream",
          "text": [
            "/usr/local/lib/python3.7/dist-packages/sklearn/svm/_base.py:289: ConvergenceWarning: Solver terminated early (max_iter=7000).  Consider pre-processing your data with StandardScaler or MinMaxScaler.\n",
            "  ConvergenceWarning,\n"
          ]
        },
        {
          "name": "stdout",
          "output_type": "stream",
          "text": [
            "[CV 1/5] END .........................C=10000.0;, score=0.280 total time=  11.0s\n"
          ]
        },
        {
          "name": "stderr",
          "output_type": "stream",
          "text": [
            "/usr/local/lib/python3.7/dist-packages/sklearn/svm/_base.py:289: ConvergenceWarning: Solver terminated early (max_iter=7000).  Consider pre-processing your data with StandardScaler or MinMaxScaler.\n",
            "  ConvergenceWarning,\n"
          ]
        },
        {
          "name": "stdout",
          "output_type": "stream",
          "text": [
            "[CV 2/5] END .........................C=10000.0;, score=0.394 total time=  10.6s\n"
          ]
        },
        {
          "name": "stderr",
          "output_type": "stream",
          "text": [
            "/usr/local/lib/python3.7/dist-packages/sklearn/svm/_base.py:289: ConvergenceWarning: Solver terminated early (max_iter=7000).  Consider pre-processing your data with StandardScaler or MinMaxScaler.\n",
            "  ConvergenceWarning,\n"
          ]
        },
        {
          "name": "stdout",
          "output_type": "stream",
          "text": [
            "[CV 3/5] END .........................C=10000.0;, score=0.414 total time=   9.1s\n"
          ]
        },
        {
          "name": "stderr",
          "output_type": "stream",
          "text": [
            "/usr/local/lib/python3.7/dist-packages/sklearn/svm/_base.py:289: ConvergenceWarning: Solver terminated early (max_iter=7000).  Consider pre-processing your data with StandardScaler or MinMaxScaler.\n",
            "  ConvergenceWarning,\n"
          ]
        },
        {
          "name": "stdout",
          "output_type": "stream",
          "text": [
            "[CV 4/5] END .........................C=10000.0;, score=0.252 total time=  11.0s\n"
          ]
        },
        {
          "name": "stderr",
          "output_type": "stream",
          "text": [
            "/usr/local/lib/python3.7/dist-packages/sklearn/svm/_base.py:289: ConvergenceWarning: Solver terminated early (max_iter=7000).  Consider pre-processing your data with StandardScaler or MinMaxScaler.\n",
            "  ConvergenceWarning,\n"
          ]
        },
        {
          "name": "stdout",
          "output_type": "stream",
          "text": [
            "[CV 5/5] END .........................C=10000.0;, score=0.353 total time=  10.3s\n"
          ]
        },
        {
          "data": {
            "text/plain": [
              "GridSearchCV(cv=<generator object _BaseKFold.split at 0x7f8fac50e950>,\n",
              "             estimator=SVC(max_iter=7000.0),\n",
              "             param_grid={'C': array([1.e-01, 1.e+00, 1.e+01, 1.e+02, 1.e+03, 1.e+04])},\n",
              "             scoring='f1', verbose=4)"
            ]
          },
          "execution_count": 169,
          "metadata": {},
          "output_type": "execute_result"
        }
      ],
      "source": [
        "grid = {\"C\": 10 ** np.linspace(-1, 4, 6)}\n",
        "svm_cv = GridSearchCV(svm_classif, grid, scoring=\"f1\", cv=skf_split, verbose=4)\n",
        "svm_cv.fit(X_nofliers, y_nofliers)"
      ]
    },
    {
      "cell_type": "code",
      "execution_count": null,
      "metadata": {
        "colab": {
          "base_uri": "https://localhost:8080/"
        },
        "id": "pBZCyON2XGOS",
        "outputId": "303a4b17-c4ac-4fb4-bbab-810a8fb3e3ac"
      },
      "outputs": [
        {
          "data": {
            "text/plain": [
              "{'C': 1.0}"
            ]
          },
          "execution_count": 170,
          "metadata": {},
          "output_type": "execute_result"
        }
      ],
      "source": [
        "svm_best = svm_cv.best_params_\n",
        "svm_best"
      ]
    },
    {
      "cell_type": "markdown",
      "metadata": {
        "id": "cFkNKY3yqPuK"
      },
      "source": [
        "The optimal $C$ hyperparameter value is $1.0$ which is the same $C$ value used initially. "
      ]
    },
    {
      "cell_type": "markdown",
      "metadata": {
        "id": "s-5T30vHubSM"
      },
      "source": [
        "##### Stratified K-Fold Cross Validation on Logistic Regression and SVM Without Outliers "
      ]
    },
    {
      "cell_type": "markdown",
      "metadata": {
        "id": "-yDCWZEqwiKc"
      },
      "source": [
        "To ensure these results are accurate, we will perform Stratified K-Fold Cross Validation on both the modified Logistic Regression and SVM models without outliers in the data. "
      ]
    },
    {
      "cell_type": "markdown",
      "metadata": {
        "id": "Oephp3Vlwuu4"
      },
      "source": [
        "Let's start with modified Logistic Regression. "
      ]
    },
    {
      "cell_type": "code",
      "execution_count": null,
      "metadata": {
        "colab": {
          "base_uri": "https://localhost:8080/"
        },
        "id": "fAFaHGOHW-O6",
        "outputId": "35668748-3ce5-435d-de31-bacd8e821538"
      },
      "outputs": [
        {
          "name": "stdout",
          "output_type": "stream",
          "text": [
            "Threshold: 0.9992, Precision: 1.0000, Recall 0.9082, F1-Score: 0.9519\n",
            "Threshold: 0.1595, Precision: 0.9884, Recall 0.8673, F1-Score: 0.9239\n",
            "Threshold: 0.9829, Precision: 1.0000, Recall 0.7273, F1-Score: 0.8421\n",
            "Threshold: 0.3392, Precision: 0.9780, Recall 0.8990, F1-Score: 0.9368\n",
            "Threshold: 0.1862, Precision: 1.0000, Recall 0.8265, F1-Score: 0.9050\n",
            "Average F-1 score: 0.9120\n"
          ]
        }
      ],
      "source": [
        "logreg_scores2 = modifiedLogisticRegression(X_data=X_nofliers, y_data=y_nofliers, kfold=skf)\n",
        "print(\"Average F-1 score: %.4f\" % np.mean(logreg_scores2))"
      ]
    },
    {
      "cell_type": "markdown",
      "metadata": {
        "id": "XoniYad2uqZB"
      },
      "source": [
        "This time, the best results come from the first fold, which has a precision of $1.0$ and an average F-1 Score of $0.9120$. This means that the removal of outliers and standardization of the data made the average F-1 score rise about $0.11$. \n",
        "\n",
        "We will now perform Stratified K-Fold Cross validation on our SVM model. "
      ]
    },
    {
      "cell_type": "code",
      "execution_count": null,
      "metadata": {
        "id": "570QOSCsrLg6"
      },
      "outputs": [],
      "source": [
        "svm_classif2 = SVC(max_iter=7e3)\n",
        "svm_scores = cross_val_score(svm_classif2, X_nofliers, y_nofliers, scoring=\"f1\", cv=skf)"
      ]
    },
    {
      "cell_type": "code",
      "execution_count": null,
      "metadata": {
        "colab": {
          "base_uri": "https://localhost:8080/"
        },
        "id": "fZmpNVYLcXAT",
        "outputId": "a8fa558c-4bdc-4f7f-d943-160d72e81f63"
      },
      "outputs": [
        {
          "name": "stdout",
          "output_type": "stream",
          "text": [
            "Fold 1 F-1 Score: 0.9519\n",
            "Fold 2 F-1 Score: 0.9231\n",
            "Fold 3 F-1 Score: 0.8939\n",
            "Fold 4 F-1 Score: 0.9355\n",
            "Fold 5 F-1 Score: 0.9050\n",
            "Average F-1 score: 0.9219\n"
          ]
        }
      ],
      "source": [
        "[print(\"Fold %d F-1 Score: %.4f\" % (i+1, svm_scores[i])) for i in range(len(svm_scores))]\n",
        "print(\"Average F-1 score: %.4f\" % np.mean(svm_scores))"
      ]
    },
    {
      "cell_type": "markdown",
      "metadata": {
        "id": "Ik4a47fziT77"
      },
      "source": [
        "Both the modified Logistic Regression and SVM models are performing well."
      ]
    },
    {
      "cell_type": "markdown",
      "metadata": {
        "id": "2sHndfvz0ZLQ"
      },
      "source": [
        "### Results"
      ]
    },
    {
      "cell_type": "markdown",
      "metadata": {
        "id": "STCIMUgrngUq"
      },
      "source": [
        "Below is a summary of all Logistic Regression (LR) and Support Vector Machine (SVM) classifiers. \n",
        "\n",
        "<br>\n",
        "\n",
        "| Metric      | LR (initial)| LR (with SMOTE) | SVM (initial) | SVM (w/o outliers) |\n",
        "| ----------- | ----------- | --------------- | ------------- | ------ |\n",
        "| Precision   | 0.8475      | 0.1991          | 0.8587        | ***1.0000*** |\n",
        "| Recall      | 0.5102      | ***0.8673***     | 0.8061        | 0.8571 |\n",
        "| F-1 Score   | 0.6369      | 0.3238          | 0.8316        | ***0.9231*** |\n",
        "\n",
        "<br>\n",
        "\n",
        "| Modified LR Cross Validation |1 |2 |3 |4 |5 | Average |\n",
        "|--|--|--|--|--|--| ------- |\n",
        "| Threshold | 0.1186 | 0.0278 | 0.0347 | 0.1397 | 0.0149 | 0.0671 |\n",
        "| Precision | 0.7031 | 0.9535 | 0.7273 | ***0.9600*** | 0.7723 | 0.8232 |\n",
        "| Recall    | ***0.9091*** | 0.8367 | 0.6531 | 0.7347 | 0.7879 | 0.7843 |\n",
        "| F-1 Score | 0.7930 | ***0.8913*** | 0.6882 | 0.8324 | 0.7800 | 0.7970 |\n",
        "\n",
        "<br>\n",
        "\n",
        "| Modified LR (without outliers) Cross Validation |1 |2 |3 |4 |5 | Average |\n",
        "|--|--|--|--|--|--| ------- |\n",
        "| Threshold | 0.9992 | 0.1595 | 0.9829 | 0.3392 | 0.1862 | 0.5334 |\n",
        "| Precision | ***1.0000*** | 0.9884 | ***1.0000*** | 0.9780 | ***1.0000*** | 0.9933 |\n",
        "| Recall    | ***0.9082*** | 0.8673 | 0.7273 | 0.8990 | 0.8265 | 0.8457 |\n",
        "| F-1 Score | ***0.9519*** | 0.9239 | 0.8421 | 0.9368 | 0.9050 | 0.9120 |\n",
        " \n",
        "<br>\n",
        "\n",
        "| SVM (without outliers) Cross Validation |1 |2 |3 |4 |5 | Average |\n",
        "|--|--|--|--|--|--| ------- |\n",
        "| F-1 Score | ***0.9519*** | 0.9231 | 0.8939 | 0.9355 | 0.9050 | 0.9219 |\n"
      ]
    },
    {
      "cell_type": "markdown",
      "metadata": {
        "id": "jdwnj5VV0ZLQ"
      },
      "source": [
        "### Discussions\n",
        "\n",
        "Creating accurate and reliable machine learning models for detecting credit card fraud is challenging. Although the Credit Card Fraud Detection dataset did not contain missing values, nor did it have categorical features that required encoding algorithms such as one-hot encoding, the dataset was extremely imbalanced because of the rarity of fraudulent credit card transactions. Our main priority was to detect credit card fraud when it occurs, but there were only 492 observations available to learn from within a dataset containing 284,806 observations. \n",
        "    \n",
        "One may argue that it would be more beneficial to acquire some context or description of the features that were kept confidential for the security of the cardholders. Knowing this context may allow the data scientist to make more intuitive decisions based on the analysis. However, the focus of this project was related to the methods used to produce accurate predictive models rather than making business decisions. "
      ]
    },
    {
      "cell_type": "markdown",
      "metadata": {
        "id": "qotZipjJ0ZLQ"
      },
      "source": [
        "### Conclusions\n",
        "\n",
        "This project uses supervised learning models such as Logistic Regression and Support Vector Machines and other techniques to make accurate and reliable models for detecting credit card fraud. The performances of the models that we created in this report were relatively good since we achieved accuracies above 90%, especially when using an extremely unbalanced dataset to learn from. However, such results would not be ideal in the context of the problem because there will be significant consequences if a bank fails to predict when a transaction is fraudulent. Such an event would diminish the trust that the cardholders have in the bank. Using other models such as neural networks and other techniques such as ensembles could potentially overcome the results we have obtained in this project, which is worth keeping in mind in the future. "
      ]
    },
    {
      "cell_type": "markdown",
      "metadata": {
        "id": "NadBHSU_0ZLQ"
      },
      "source": [
        "### References\n",
        "- [1] https://www.kaggle.com/datasets/mlg-ulb/creditcardfraud\n",
        "- [2] https://www.sciencepubco.com/index.php/ijet/article/view/16783/7212\n",
        "- [3] https://slideplayer.com/slide/9291706/\n",
        "- [4] http://citeseerx.ist.psu.edu/viewdoc/download?doi=10.1.1.121.6481&rep=rep1&type=pdf\n",
        "- [5] https://www.ibm.com/docs/en/spss-modeler/SaaS?topic=models-how-svm-works"
      ]
    }
  ],
  "metadata": {
    "accelerator": "GPU",
    "colab": {
      "collapsed_sections": [],
      "name": "ARIEL_SALAZAR_MATG557_FINAL_PROJECT.ipynb",
      "provenance": [],
      "toc_visible": true
    },
    "kernelspec": {
      "display_name": "Python 3",
      "name": "python3"
    },
    "language_info": {
      "name": "python"
    },
    "orig_nbformat": 4
  },
  "nbformat": 4,
  "nbformat_minor": 0
}
